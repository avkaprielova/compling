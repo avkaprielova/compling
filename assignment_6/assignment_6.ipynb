{
 "cells": [
  {
   "cell_type": "markdown",
   "metadata": {
    "colab_type": "text",
    "id": "wdH6k1SVnp-j"
   },
   "source": [
    "# Assignment 6\n",
    "\n",
    "[3 points] Delelop language model, which generates texts from wikipedia.   \n",
    "Use WikiText-2 dataset, also available in `torchtext.datasets`.  \n",
    "Use `sentencepiece` or `tokenizers` library for text tokenization. Pay attention to vocab size, probably subword tokens are better.    \n",
    "Your model should be autogressive RNN.  \n",
    "[1 point] Plot train and validation loss depending on the number of iterations of gradient decent.  \n",
    "[1 point] Try to use together (`sentencepiece` or `tokenizers`), `torchtext.datasets`, and `torchtext.data.BPTTIterator`  \n",
    "\n",
    "<img src=\"images/lm.jpg\" style=\"height:300px\">\n",
    "\n",
    "Text generation should be terminated when either max length is reached or terminal symbol is generated.  \n",
    "Explore several inference techniques:\n",
    "1. [1 point] Argmax\n",
    "1. [1 point] Beamsearch\n",
    "1. [1 point] Sampling from probabilty distribution with temperature\n",
    "1. [1 point] Nucleus sampling\n",
    "1. [1 point] Top-k sampling\n",
    "\n",
    "For every method you should provide implemented code and generated examples. Each example must contain at least 10 words (not subword tokens).\n",
    "\n",
    "Readings:\n",
    "https://arxiv.org/abs/1904.09751"
   ]
  },
  {
   "cell_type": "code",
   "execution_count": 0,
   "metadata": {
    "colab": {
     "base_uri": "https://localhost:8080/",
     "height": 377
    },
    "colab_type": "code",
    "id": "srjz-MB3np-m",
    "outputId": "5e279fb3-5b7d-4c08-f3ef-d880a0942612"
   },
   "outputs": [
    {
     "name": "stdout",
     "output_type": "stream",
     "text": [
      "Requirement already satisfied: bpemb in /usr/local/lib/python3.6/dist-packages (0.3.0)\n",
      "Requirement already satisfied: numpy in /usr/local/lib/python3.6/dist-packages (from bpemb) (1.17.5)\n",
      "Requirement already satisfied: sentencepiece in /usr/local/lib/python3.6/dist-packages (from bpemb) (0.1.85)\n",
      "Requirement already satisfied: tqdm in /usr/local/lib/python3.6/dist-packages (from bpemb) (4.28.1)\n",
      "Requirement already satisfied: requests in /usr/local/lib/python3.6/dist-packages (from bpemb) (2.21.0)\n",
      "Requirement already satisfied: gensim in /usr/local/lib/python3.6/dist-packages (from bpemb) (3.6.0)\n",
      "Requirement already satisfied: urllib3<1.25,>=1.21.1 in /usr/local/lib/python3.6/dist-packages (from requests->bpemb) (1.24.3)\n",
      "Requirement already satisfied: idna<2.9,>=2.5 in /usr/local/lib/python3.6/dist-packages (from requests->bpemb) (2.8)\n",
      "Requirement already satisfied: certifi>=2017.4.17 in /usr/local/lib/python3.6/dist-packages (from requests->bpemb) (2019.11.28)\n",
      "Requirement already satisfied: chardet<3.1.0,>=3.0.2 in /usr/local/lib/python3.6/dist-packages (from requests->bpemb) (3.0.4)\n",
      "Requirement already satisfied: scipy>=0.18.1 in /usr/local/lib/python3.6/dist-packages (from gensim->bpemb) (1.4.1)\n",
      "Requirement already satisfied: smart-open>=1.2.1 in /usr/local/lib/python3.6/dist-packages (from gensim->bpemb) (1.9.0)\n",
      "Requirement already satisfied: six>=1.5.0 in /usr/local/lib/python3.6/dist-packages (from gensim->bpemb) (1.12.0)\n",
      "Requirement already satisfied: boto>=2.32 in /usr/local/lib/python3.6/dist-packages (from smart-open>=1.2.1->gensim->bpemb) (2.49.0)\n",
      "Requirement already satisfied: boto3 in /usr/local/lib/python3.6/dist-packages (from smart-open>=1.2.1->gensim->bpemb) (1.10.47)\n",
      "Requirement already satisfied: s3transfer<0.3.0,>=0.2.0 in /usr/local/lib/python3.6/dist-packages (from boto3->smart-open>=1.2.1->gensim->bpemb) (0.2.1)\n",
      "Requirement already satisfied: botocore<1.14.0,>=1.13.47 in /usr/local/lib/python3.6/dist-packages (from boto3->smart-open>=1.2.1->gensim->bpemb) (1.13.47)\n",
      "Requirement already satisfied: jmespath<1.0.0,>=0.7.1 in /usr/local/lib/python3.6/dist-packages (from boto3->smart-open>=1.2.1->gensim->bpemb) (0.9.4)\n",
      "Requirement already satisfied: python-dateutil<3.0.0,>=2.1; python_version >= \"2.7\" in /usr/local/lib/python3.6/dist-packages (from botocore<1.14.0,>=1.13.47->boto3->smart-open>=1.2.1->gensim->bpemb) (2.6.1)\n",
      "Requirement already satisfied: docutils<0.16,>=0.10 in /usr/local/lib/python3.6/dist-packages (from botocore<1.14.0,>=1.13.47->boto3->smart-open>=1.2.1->gensim->bpemb) (0.15.2)\n"
     ]
    }
   ],
   "source": [
    "!pip install bpemb\n",
    "import pandas as pd\n",
    "from bpemb import BPEmb\n",
    "import numpy as np\n",
    "from sklearn.externals import joblib\n",
    "import nltk\n",
    "import gensim\n",
    "import spacy\n",
    "from tqdm import tqdm_notebook\n",
    "from sklearn import metrics\n",
    "import torch as tt\n",
    "import torch.nn as nn\n",
    "import torch.nn.functional as F\n",
    "import torch.optim as optim\n",
    "from torchtext.data import Field, LabelField, BPTTIterator\n",
    "from torchtext import datasets\n",
    "SEED = 42\n",
    "np.random.seed(SEED)"
   ]
  },
  {
   "cell_type": "code",
   "execution_count": 0,
   "metadata": {
    "colab": {},
    "colab_type": "code",
    "id": "78Ym4_Mhnp-r"
   },
   "outputs": [],
   "source": [
    "class MyModel(nn.Module):\n",
    "    \n",
    "    def __init__(self, vocab_size, target_vocab_size, embed_size, hidden_size):\n",
    "        super(MyModel, self).__init__()\n",
    "        self.embedding = nn.Embedding(vocab_size, embed_size)\n",
    "        \n",
    "        self.rnn = nn.LSTM(input_size=embed_size,\n",
    "                           hidden_size=hidden_size,\n",
    "                           bidirectional=True,\n",
    "                           batch_first=True\n",
    "                          )\n",
    "        \n",
    "        self.fc = nn.Linear(hidden_size * 2, target_vocab_size)\n",
    "        \n",
    "        self.init_weights()\n",
    "        \n",
    "    def init_weights(self):\n",
    "        nn.init.uniform_(self.embedding.weight)\n",
    "        nn.init.xavier_uniform_(self.fc.weight)\n",
    "        nn.init.zeros_(self.fc.bias)\n",
    "        \n",
    "    def forward(self, batch):\n",
    "        \n",
    "        x = batch\n",
    "        # x_lengths = [len(y) for y in x]\n",
    "        batch_size = x.size(0)\n",
    "        total_length = x.size(1)\n",
    "        \n",
    "        x = self.embedding(x)\n",
    "\n",
    "        # x = nn.utils.rnn.pack_padded_sequence(x, x_lengths, batch_first=True)\n",
    "            \n",
    "        x, _ = self.rnn(x)\n",
    "        \n",
    "        # x, _ = nn.utils.rnn.pad_packed_sequence(x, total_length=total_length, batch_first=True)\n",
    "        \n",
    "        x = x.contiguous().view(batch_size * total_length, -1)\n",
    "        x = self.fc(x)\n",
    "        x = x.contiguous().view(batch_size , total_length, -1)\n",
    "        return x.transpose(1,2)"
   ]
  },
  {
   "cell_type": "code",
   "execution_count": 0,
   "metadata": {
    "colab": {},
    "colab_type": "code",
    "id": "H84VrhyOnp-u"
   },
   "outputs": [],
   "source": [
    "def _train_epoch(model, iterator, optimizer, criterion, curr_epoch):\n",
    "\n",
    "    model.train()\n",
    "\n",
    "    running_loss = 0\n",
    "\n",
    "    n_batches = len(iterator)\n",
    "    iterator = tqdm_notebook(iterator, total=n_batches, desc='epoch %d' % (curr_epoch), leave=True)\n",
    "\n",
    "    all_losses = []\n",
    "    for i, batch in enumerate(iterator):\n",
    "        optimizer.zero_grad()\n",
    "\n",
    "        pred = model(batch.text)\n",
    "        loss = criterion(pred, batch.target)\n",
    "        loss.backward()\n",
    "        optimizer.step()\n",
    "\n",
    "        curr_loss = loss.data.cpu().detach().item()\n",
    "        \n",
    "        loss_smoothing = i / (i+1)\n",
    "        running_loss = loss_smoothing * running_loss + (1 - loss_smoothing) * curr_loss\n",
    "\n",
    "        iterator.set_postfix(loss='%.5f' % running_loss)\n",
    "        all_losses.append(curr_loss)\n",
    "        \n",
    "    return running_loss, all_losses\n",
    "\n",
    "def _test_epoch(model, iterator, criterion):\n",
    "    model.eval()\n",
    "    epoch_loss = 0\n",
    "\n",
    "    n_batches = len(iterator)\n",
    "    all_losses = []\n",
    "    with tt.no_grad():\n",
    "        for batch in iterator:\n",
    "            pred = model(batch.text)\n",
    "            loss = criterion(pred, batch.target)\n",
    "            epoch_loss += loss.data.item()\n",
    "            all_losses.append(loss.data.item())\n",
    "\n",
    "    return epoch_loss / n_batches, all_losses\n",
    "\n",
    "\n",
    "def nn_train(model, train_iterator, valid_iterator, criterion, optimizer, n_epochs=100,\n",
    "          scheduler=None, early_stopping=0):\n",
    "\n",
    "    prev_loss = 100500\n",
    "    es_epochs = 0\n",
    "    best_epoch = None\n",
    "    history = pd.DataFrame()\n",
    "    plot_valid_losses = []\n",
    "    plot_train_losses = []\n",
    "    for epoch in range(n_epochs):\n",
    "        train_loss, train_losses = _train_epoch(model, train_iterator, optimizer, criterion, epoch)\n",
    "        valid_loss, valid_losses = _test_epoch(model, valid_iterator, criterion)\n",
    "        plot_valid_losses.extend(valid_losses)\n",
    "        plot_train_losses.extend(train_losses)\n",
    "        valid_loss = valid_loss\n",
    "        print('validation loss %.5f' % valid_loss)\n",
    "\n",
    "        record = {'epoch': epoch, 'train_loss': train_loss, 'valid_loss': valid_loss}\n",
    "        history = history.append(record, ignore_index=True)\n",
    "\n",
    "        if early_stopping > 0:\n",
    "            if valid_loss > prev_loss:\n",
    "                es_epochs += 1\n",
    "            else:\n",
    "                es_epochs = 0\n",
    "\n",
    "            if es_epochs >= early_stopping:\n",
    "                best_epoch = history[history.valid_loss == history.valid_loss.min()].iloc[0]\n",
    "                print('Early stopping! best epoch: %d val %.5f' % (best_epoch['epoch'], best_epoch['valid_loss']))\n",
    "                break\n",
    "\n",
    "            prev_loss = min(prev_loss, valid_loss)\n",
    "    return history, plot_train_losses, plot_valid_losses"
   ]
  },
  {
   "cell_type": "code",
   "execution_count": 0,
   "metadata": {
    "colab": {},
    "colab_type": "code",
    "id": "X6OWPsEkz6Az"
   },
   "outputs": [],
   "source": [
    "import torchtext\n",
    "from torchtext import data"
   ]
  },
  {
   "cell_type": "code",
   "execution_count": 0,
   "metadata": {
    "colab": {
     "base_uri": "https://localhost:8080/",
     "height": 71
    },
    "colab_type": "code",
    "id": "mB-2umn-np-y",
    "outputId": "3a60902a-ab06-4fc8-fc66-b327989d526b"
   },
   "outputs": [
    {
     "name": "stderr",
     "output_type": "stream",
     "text": [
      "/usr/local/lib/python3.6/dist-packages/smart_open/smart_open_lib.py:402: UserWarning: This function is deprecated, use smart_open.open instead. See the migration notes for details: https://github.com/RaRe-Technologies/smart_open/blob/master/README.rst#migrating-to-the-new-open-function\n",
      "  'See the migration notes for details: %s' % _MIGRATION_NOTES_URL\n"
     ]
    }
   ],
   "source": [
    "max_length = 30\n",
    "bpemb_en = BPEmb(lang=\"en\", dim=300, vs=100000)"
   ]
  },
  {
   "cell_type": "code",
   "execution_count": 0,
   "metadata": {
    "colab": {
     "base_uri": "https://localhost:8080/",
     "height": 34
    },
    "colab_type": "code",
    "id": "HezPENe1oGv3",
    "outputId": "3adc6abb-a0c7-46d9-e4b0-a37dc20e753d"
   },
   "outputs": [
    {
     "data": {
      "text/plain": [
       "['▁he', '▁is', '▁a', '▁silent', '▁presence', '▁in', '▁the', '▁darkness', '.']"
      ]
     },
     "execution_count": 49,
     "metadata": {
      "tags": []
     },
     "output_type": "execute_result"
    }
   ],
   "source": [
    "bpemb_en.encode(\"He is a silent presence in the darkness.\")"
   ]
  },
  {
   "cell_type": "code",
   "execution_count": 0,
   "metadata": {
    "colab": {},
    "colab_type": "code",
    "id": "NML-hwjpnp-3"
   },
   "outputs": [],
   "source": [
    "device = tt.device('cuda' if tt.cuda.is_available() else 'cpu')"
   ]
  },
  {
   "cell_type": "code",
   "execution_count": 0,
   "metadata": {
    "colab": {
     "base_uri": "https://localhost:8080/",
     "height": 34
    },
    "colab_type": "code",
    "id": "06siIpcInp-6",
    "outputId": "a0999b54-0cf3-43d0-d1ab-5ac6d9609cce"
   },
   "outputs": [
    {
     "data": {
      "text/plain": [
       "device(type='cuda')"
      ]
     },
     "execution_count": 51,
     "metadata": {
      "tags": []
     },
     "output_type": "execute_result"
    }
   ],
   "source": [
    "device"
   ]
  },
  {
   "cell_type": "code",
   "execution_count": 0,
   "metadata": {
    "colab": {},
    "colab_type": "code",
    "id": "O51vCPM0np--"
   },
   "outputs": [],
   "source": [
    "TEXT = Field(\n",
    "             tokenize=bpemb_en.encode, batch_first=True,\n",
    "             lower=True, eos_token='<eos>', pad_token='<pad>', init_token = '<start>',\n",
    "            )"
   ]
  },
  {
   "cell_type": "code",
   "execution_count": 0,
   "metadata": {
    "colab": {
     "base_uri": "https://localhost:8080/",
     "height": 34
    },
    "colab_type": "code",
    "id": "--FvjxRKvlbH",
    "outputId": "b639ee83-b1c6-4975-caab-c1a57765b7b8"
   },
   "outputs": [
    {
     "data": {
      "text/plain": [
       "'<eos>'"
      ]
     },
     "execution_count": 53,
     "metadata": {
      "tags": []
     },
     "output_type": "execute_result"
    }
   ],
   "source": [
    "TEXT.eos_token"
   ]
  },
  {
   "cell_type": "code",
   "execution_count": 0,
   "metadata": {
    "colab": {},
    "colab_type": "code",
    "id": "pXzUC_Qknp_B",
    "scrolled": true
   },
   "outputs": [],
   "source": [
    "train, valid, test = datasets.WikiText2.splits(TEXT)"
   ]
  },
  {
   "cell_type": "code",
   "execution_count": 0,
   "metadata": {
    "colab": {
     "base_uri": "https://localhost:8080/",
     "height": 34
    },
    "colab_type": "code",
    "id": "HzzULqtoscww",
    "outputId": "29a56bfa-b098-402d-9b5e-23efc142cc61"
   },
   "outputs": [
    {
     "data": {
      "text/plain": [
       "(1, 1)"
      ]
     },
     "execution_count": 55,
     "metadata": {
      "tags": []
     },
     "output_type": "execute_result"
    }
   ],
   "source": [
    "len(train), len(test)"
   ]
  },
  {
   "cell_type": "code",
   "execution_count": 0,
   "metadata": {
    "colab": {},
    "colab_type": "code",
    "id": "KHw87lrMnp_F"
   },
   "outputs": [],
   "source": [
    "TEXT.build_vocab(train) # train, valid, test"
   ]
  },
  {
   "cell_type": "code",
   "execution_count": 0,
   "metadata": {
    "colab": {
     "base_uri": "https://localhost:8080/",
     "height": 34
    },
    "colab_type": "code",
    "id": "PNctNvehnp_J",
    "outputId": "da986f4f-975e-484e-886c-1998b74cfd1b"
   },
   "outputs": [
    {
     "data": {
      "text/plain": [
       "27629"
      ]
     },
     "execution_count": 57,
     "metadata": {
      "tags": []
     },
     "output_type": "execute_result"
    }
   ],
   "source": [
    "len(TEXT.vocab.itos)"
   ]
  },
  {
   "cell_type": "code",
   "execution_count": 0,
   "metadata": {
    "colab": {
     "base_uri": "https://localhost:8080/",
     "height": 357
    },
    "colab_type": "code",
    "id": "mDQ90jRbnp_N",
    "outputId": "d52fa052-96be-440f-a9a6-212e825a1bc8",
    "scrolled": true
   },
   "outputs": [
    {
     "data": {
      "text/plain": [
       "['<unk>',\n",
       " '<pad>',\n",
       " '<start>',\n",
       " '<eos>',\n",
       " '▁the',\n",
       " '▁,',\n",
       " '▁',\n",
       " '▁.',\n",
       " '▁of',\n",
       " '<',\n",
       " '>',\n",
       " 'unk',\n",
       " '▁and',\n",
       " '@',\n",
       " '▁in',\n",
       " '▁to',\n",
       " '▁a',\n",
       " '▁=',\n",
       " '▁\"',\n",
       " '▁0000']"
      ]
     },
     "execution_count": 58,
     "metadata": {
      "tags": []
     },
     "output_type": "execute_result"
    }
   ],
   "source": [
    "TEXT.vocab.itos[:20]"
   ]
  },
  {
   "cell_type": "code",
   "execution_count": 0,
   "metadata": {
    "colab": {},
    "colab_type": "code",
    "id": "ZOhMjSF-np_Q"
   },
   "outputs": [],
   "source": [
    "batch_size = 32\n",
    "tt.cuda.empty_cache()\n",
    "train_iterator, valid_iterator, test_iterator = BPTTIterator.splits(\n",
    "    (train, valid, test), device=device,\n",
    "    batch_sizes=(batch_size, batch_size, batch_size),\n",
    "    bptt_len=max_length, shuffle = True,                     \n",
    "    repeat=False)"
   ]
  },
  {
   "cell_type": "code",
   "execution_count": 0,
   "metadata": {
    "colab": {
     "base_uri": "https://localhost:8080/",
     "height": 34
    },
    "colab_type": "code",
    "id": "xLkOJ-BzrcCY",
    "outputId": "478c330d-f88c-4025-fae5-5f8520ac92ac"
   },
   "outputs": [
    {
     "data": {
      "text/plain": [
       "<torchtext.data.iterator.BPTTIterator at 0x7fa51b5df3c8>"
      ]
     },
     "execution_count": 60,
     "metadata": {
      "tags": []
     },
     "output_type": "execute_result"
    }
   ],
   "source": [
    "train_iterator"
   ]
  },
  {
   "cell_type": "code",
   "execution_count": 0,
   "metadata": {
    "colab": {
     "base_uri": "https://localhost:8080/",
     "height": 1000
    },
    "colab_type": "code",
    "id": "A-M0HXqmsWxo",
    "outputId": "8daa5585-291b-4d2d-a9bc-9f45e61dc265"
   },
   "outputs": [
    {
     "name": "stdout",
     "output_type": "stream",
     "text": [
      "\n",
      "[torchtext.data.batch.Batch of size 32]\n",
      "\t[.text]:[torch.cuda.LongTensor of size 30x32 (GPU 0)]\n",
      "\t[.target]:[torch.cuda.LongTensor of size 30x32 (GPU 0)]\n",
      "torch.Size([30, 32])\n",
      "tensor([[    3,    17,     9],\n",
      "        [   17,    17,    11],\n",
      "        [ 3799,    17,    10],\n",
      "        [ 3205,     3,   867],\n",
      "        [ 3820,     3,  1210],\n",
      "        [  864,     4,  2688],\n",
      "        [   17,  2349,     5],\n",
      "        [    3,  5120,     6],\n",
      "        [    3,     4,     9],\n",
      "        [13980,  3875,    11],\n",
      "        [18326,  1459,    10],\n",
      "        [   98,  1665,    12],\n",
      "        [ 3799,     4,    16],\n",
      "        [ 3205,   137,   128],\n",
      "        [   28, 10148,     8],\n",
      "        [   59,    67,  2750],\n",
      "        [    6,  1195,     5],\n",
      "        [    9,  4873,  1991],\n",
      "        [   11,    14,   196],\n",
      "        [   10,  2544,    16],\n",
      "        [ 3820,    22,  1515],\n",
      "        [   33,    24,  2646],\n",
      "        [  762,   278, 12504],\n",
      "        [   59,     7,  8465],\n",
      "        [    6,  5433,     4],\n",
      "        [27627,  3898,   281],\n",
      "        [  296, 15269,   565],\n",
      "        [    5,     6,   589],\n",
      "        [ 4957,     9,   731],\n",
      "        [    7,    11,    37]], device='cuda:0')\n",
      "tensor([[   17,    17,    11],\n",
      "        [ 3799,    17,    10],\n",
      "        [ 3205,     3,   867],\n",
      "        [ 3820,     3,  1210],\n",
      "        [  864,     4,  2688],\n",
      "        [   17,  2349,     5],\n",
      "        [    3,  5120,     6],\n",
      "        [    3,     4,     9],\n",
      "        [13980,  3875,    11],\n",
      "        [18326,  1459,    10],\n",
      "        [   98,  1665,    12],\n",
      "        [ 3799,     4,    16],\n",
      "        [ 3205,   137,   128],\n",
      "        [   28, 10148,     8],\n",
      "        [   59,    67,  2750],\n",
      "        [    6,  1195,     5],\n",
      "        [    9,  4873,  1991],\n",
      "        [   11,    14,   196],\n",
      "        [   10,  2544,    16],\n",
      "        [ 3820,    22,  1515],\n",
      "        [   33,    24,  2646],\n",
      "        [  762,   278, 12504],\n",
      "        [   59,     7,  8465],\n",
      "        [    6,  5433,     4],\n",
      "        [27627,  3898,   281],\n",
      "        [  296, 15269,   565],\n",
      "        [    5,     6,   589],\n",
      "        [ 4957,     9,   731],\n",
      "        [    7,    11,    37],\n",
      "        [ 3799,    10, 13035]], device='cuda:0')\n"
     ]
    }
   ],
   "source": [
    "for batch in train_iterator:\n",
    "    print(batch)\n",
    "    print(batch.text.shape)\n",
    "    print(batch.text[:, :3])\n",
    "    print(batch.target[:, :3])\n",
    "    break"
   ]
  },
  {
   "cell_type": "code",
   "execution_count": 0,
   "metadata": {
    "colab": {},
    "colab_type": "code",
    "id": "5fFWiRpDnp_T"
   },
   "outputs": [],
   "source": [
    "model = MyModel(vocab_size=len(TEXT.vocab.itos),\n",
    "                target_vocab_size=len(TEXT.vocab.itos),\n",
    "                embed_size=100,\n",
    "                hidden_size=128,\n",
    "               )\n",
    "model = model.cuda()"
   ]
  },
  {
   "cell_type": "code",
   "execution_count": 0,
   "metadata": {
    "colab": {},
    "colab_type": "code",
    "id": "MqXxvSMonp_W"
   },
   "outputs": [],
   "source": [
    "optimizer = optim.Adam(model.parameters())\n",
    "scheduler = optim.lr_scheduler.CosineAnnealingLR(optimizer, T_max=5)\n",
    "criterion = nn.CrossEntropyLoss(ignore_index=1)\n",
    "criterion = criterion.cuda()"
   ]
  },
  {
   "cell_type": "code",
   "execution_count": 0,
   "metadata": {
    "colab": {
     "base_uri": "https://localhost:8080/",
     "height": 215,
     "referenced_widgets": [
      "4c09c878f96e42509d9b658e31a14d05",
      "1e8cceab048542e1bdaa5f74c80da7f1",
      "496af8b9431a40ce889b0c89c6863d87",
      "8524dc27627d468b9cce63156bf53e79",
      "d73cd974ae1b4fd9996e28539d5e311a",
      "d425a63dca08409d8d91dc2fc28d7bcd",
      "dab5e779393141519071e82e9406be79",
      "c6a2c415bc934b65b6a32d0ce9a89429",
      "0d1d791818e24be7a499c272a916fc25",
      "9f95b112889f48e49f3fa060d8c7295d",
      "32081c8d39ec4f36ae63c9f96d014101",
      "f20e8054c96b422692c688597d16b6ef",
      "f2820adcad76413f91c5d8957beb213d",
      "3d466226ec824f55940e30d6dec9351a",
      "73c1c00477aa496a862246145cfe1bb6",
      "17f94b44a2c44dc89cc0595f3f68bac9",
      "1885e8beb0fc409fba26d5e3b3772049",
      "f941d5cbba8f48bfa168f2ff834afdb1",
      "96d1c03b27ee4fb29d7fab5104fd75d2",
      "a24e5b5543da4ce896bb2c8abdaec916",
      "bf4867cd89cf4b68895d294e0dc36459",
      "74acadef43704f1da754078cf69bde13",
      "09dc7219746e4764bbaa97bf4e3f232d",
      "c92f158bf6ea41f2bee2b2ca0f0ae7a5"
     ]
    },
    "colab_type": "code",
    "id": "bpaRz9Hanp_Z",
    "outputId": "7ae28116-26f6-42a9-bb00-1f85a9d99795",
    "scrolled": true
   },
   "outputs": [
    {
     "data": {
      "application/vnd.jupyter.widget-view+json": {
       "model_id": "4c09c878f96e42509d9b658e31a14d05",
       "version_major": 2,
       "version_minor": 0
      },
      "text/plain": [
       "HBox(children=(IntProgress(value=0, description='epoch 0', max=2481, style=ProgressStyle(description_width='in…"
      ]
     },
     "metadata": {
      "tags": []
     },
     "output_type": "display_data"
    },
    {
     "name": "stdout",
     "output_type": "stream",
     "text": [
      "\n",
      "validation loss 4.79276\n"
     ]
    },
    {
     "data": {
      "application/vnd.jupyter.widget-view+json": {
       "model_id": "0d1d791818e24be7a499c272a916fc25",
       "version_major": 2,
       "version_minor": 0
      },
      "text/plain": [
       "HBox(children=(IntProgress(value=0, description='epoch 1', max=2481, style=ProgressStyle(description_width='in…"
      ]
     },
     "metadata": {
      "tags": []
     },
     "output_type": "display_data"
    },
    {
     "name": "stdout",
     "output_type": "stream",
     "text": [
      "\n",
      "validation loss 4.69393\n"
     ]
    },
    {
     "data": {
      "application/vnd.jupyter.widget-view+json": {
       "model_id": "1885e8beb0fc409fba26d5e3b3772049",
       "version_major": 2,
       "version_minor": 0
      },
      "text/plain": [
       "HBox(children=(IntProgress(value=0, description='epoch 2', max=2481, style=ProgressStyle(description_width='in…"
      ]
     },
     "metadata": {
      "tags": []
     },
     "output_type": "display_data"
    },
    {
     "name": "stdout",
     "output_type": "stream",
     "text": [
      "\n",
      "validation loss 4.67411\n"
     ]
    }
   ],
   "source": [
    "history, plot_train_losses, plot_valid_losses = nn_train(model, train_iterator, valid_iterator, criterion, optimizer, scheduler=scheduler, \n",
    "        n_epochs=10, early_stopping=2) #n_epochs=10"
   ]
  },
  {
   "cell_type": "code",
   "execution_count": 0,
   "metadata": {
    "colab": {
     "base_uri": "https://localhost:8080/",
     "height": 295
    },
    "colab_type": "code",
    "id": "ToF_MO5Anp_d",
    "outputId": "1e171ed1-f63f-4834-fd81-6224b4cac41b"
   },
   "outputs": [
    {
     "data": {
      "image/png": "[encoded data removed]",
      "text/plain": [
       "<Figure size 432x288 with 2 Axes>"
      ]
     },
     "metadata": {
      "tags": []
     },
     "output_type": "display_data"
    }
   ],
   "source": [
    "import matplotlib.pyplot as plt\n",
    "%matplotlib inline\n",
    "def loss_plot(train_loss, valid_loss):\n",
    "    plt.figure()\n",
    "    plt.subplot(211)\n",
    "\n",
    "    plt.title('Training and validation loss')\n",
    "    plt.plot(train_loss, color='red', linewidth=2, label = 'Loss (train)')\n",
    "    plt.legend()\n",
    "\n",
    "    plt.subplot(212)\n",
    "    plt.xlabel('Iterations')\n",
    "    plt.plot(valid_loss, color='blue', linewidth=2, label = 'Loss (val)')\n",
    "    plt.legend()\n",
    "    plt.show()\n",
    "\n",
    "loss_plot(plot_train_losses, plot_valid_losses)"
   ]
  },
  {
   "cell_type": "code",
   "execution_count": 0,
   "metadata": {
    "colab": {},
    "colab_type": "code",
    "id": "t58KPfT8np_g"
   },
   "outputs": [],
   "source": [
    "def reverse(self, batch):\n",
    "    if not self.batch_first:\n",
    "        batch = batch.t()\n",
    "    with tt.cuda.device_of(batch):\n",
    "        batch = batch.tolist()\n",
    "    batch = [[self.vocab.itos[ind] for ind in ex] for ex in batch]  # denumericalize\n",
    "\n",
    "    def trim(s, t):\n",
    "        sentence = []\n",
    "        for w in s:\n",
    "            if w == t:\n",
    "                break\n",
    "            sentence.append(w)\n",
    "        return sentence\n",
    "\n",
    "    batch = [trim(ex, self.eos_token) for ex in batch]  # trim past frst eos\n",
    "\n",
    "    def filter_special(tok):\n",
    "        return tok not in (self.init_token, self.pad_token)\n",
    "\n",
    "    batch = [filter(filter_special, ex) for ex in batch]\n",
    "    return [' '.join(ex) for ex in batch]"
   ]
  },
  {
   "cell_type": "code",
   "execution_count": 0,
   "metadata": {
    "colab": {},
    "colab_type": "code",
    "id": "k-7thosVtxck"
   },
   "outputs": [],
   "source": [
    "example_batch = next(iter(train_iterator))"
   ]
  },
  {
   "cell_type": "code",
   "execution_count": 0,
   "metadata": {
    "colab": {
     "base_uri": "https://localhost:8080/",
     "height": 850
    },
    "colab_type": "code",
    "id": "0xDe19n3twjs",
    "outputId": "29c1d881-a844-447e-fe57-98bbd2760a59"
   },
   "outputs": [
    {
     "name": "stdout",
     "output_type": "stream",
     "text": [
      "tensor([[[-12.7919, -13.8441],\n",
      "         [-12.7410, -13.8662],\n",
      "         [-12.9713, -14.1411],\n",
      "         ...,\n",
      "         [-18.1651, -20.3512],\n",
      "         [ -8.7183, -11.1089],\n",
      "         [-16.2525, -17.4205]],\n",
      "\n",
      "        [[-13.2695, -13.8822],\n",
      "         [-13.3072, -13.9046],\n",
      "         [-13.5976, -14.1797],\n",
      "         ...,\n",
      "         [-18.7182, -20.4294],\n",
      "         [-10.2379, -11.1771],\n",
      "         [-16.8915, -17.6280]],\n",
      "\n",
      "        [[-14.5634, -14.1332],\n",
      "         [-14.5304, -14.1559],\n",
      "         [-14.8646, -14.4544],\n",
      "         ...,\n",
      "         [-11.1838, -20.5684],\n",
      "         [ -6.1162, -11.4289],\n",
      "         [ -8.4940, -17.8019]],\n",
      "\n",
      "        ...,\n",
      "\n",
      "        [[-10.3270, -17.4844],\n",
      "         [-10.3510, -17.4292],\n",
      "         [-10.5043, -17.8581],\n",
      "         ...,\n",
      "         [-13.3636,  -0.9593],\n",
      "         [ -7.9028,  -0.1294],\n",
      "         [-10.7302,   2.4186]],\n",
      "\n",
      "        [[-12.5140, -20.0813],\n",
      "         [-12.5554, -20.1059],\n",
      "         [-12.7486, -20.6006],\n",
      "         ...,\n",
      "         [-14.3074, -17.9938],\n",
      "         [ -8.1531, -11.7194],\n",
      "         [-11.6167, -14.5586]],\n",
      "\n",
      "        [[-11.3442, -20.0818],\n",
      "         [-11.3475, -20.0221],\n",
      "         [-11.5611, -20.4985],\n",
      "         ...,\n",
      "         [-16.9625, -22.4207],\n",
      "         [ -8.3340, -12.1145],\n",
      "         [-14.4293, -20.0935]]], device='cuda:0', grad_fn=<SliceBackward>) <class 'torch.Tensor'> torch.Size([30, 27629, 32])\n"
     ]
    }
   ],
   "source": [
    "pred = model(example_batch.text)\n",
    "print(pred[:, :, :2], type(pred), pred.shape)"
   ]
  },
  {
   "cell_type": "code",
   "execution_count": 0,
   "metadata": {
    "colab": {
     "base_uri": "https://localhost:8080/",
     "height": 34
    },
    "colab_type": "code",
    "id": "3I66sExkuoGU",
    "outputId": "f73a17cb-86fd-45a5-e6ac-c07e37037b15"
   },
   "outputs": [
    {
     "data": {
      "text/plain": [
       "torch.Size([30, 27629, 32])"
      ]
     },
     "execution_count": 69,
     "metadata": {
      "tags": []
     },
     "output_type": "execute_result"
    }
   ],
   "source": [
    "pred = tt.softmax(pred, dim=1)\n",
    "pred.shape"
   ]
  },
  {
   "cell_type": "code",
   "execution_count": 0,
   "metadata": {
    "colab": {
     "base_uri": "https://localhost:8080/",
     "height": 34
    },
    "colab_type": "code",
    "id": "EHIxW276t7hL",
    "outputId": "867e04d3-4fa0-4a02-dfdc-da3459e0009e"
   },
   "outputs": [
    {
     "data": {
      "text/plain": [
       "torch.Size([30, 32])"
      ]
     },
     "execution_count": 70,
     "metadata": {
      "tags": []
     },
     "output_type": "execute_result"
    }
   ],
   "source": [
    "pred = tt.argmax(pred, dim=1)\n",
    "pred.shape"
   ]
  },
  {
   "cell_type": "code",
   "execution_count": 0,
   "metadata": {
    "colab": {
     "base_uri": "https://localhost:8080/",
     "height": 1000
    },
    "colab_type": "code",
    "id": "Fu5ofjC5np_m",
    "outputId": "c29854f8-2086-4690-9bf0-f5a1beeab452",
    "scrolled": true
   },
   "outputs": [
    {
     "name": "stdout",
     "output_type": "stream",
     "text": [
      "0\n",
      "text:  <eos> ▁increase ▁a > > ▁more < ▁smooth ▁) unk ▁via ▁' ▁) ▁0000 ▁' ▁his ▁00 ▁) ▁first ▁called ▁. ▁finland > ▁. ▁church ▁to ▁sets ▁of ▁concrete ▁of ▁0 >\n",
      "pred tags:  <eos> ▁in ▁ ▁, ▁, ▁than unk ▁, ▁, > ▁the s ▁, ▁, s ▁first ▁, ▁, ▁season ▁the <eos> ▁, ▁ <eos> ▁, ▁the ▁of ▁the ▁, ▁the ▁ ▁\n",
      "true tags:  ▁= ▁in ▁pioneering ▁, ▁records ▁likely unk ▁skull ▁, > ▁the ▁\" ▁south ▁ s ▁return ▁pm ▁and ▁head ▁stevens ▁by ▁followed ▁, ▁000 ▁and ▁drive ▁stone ▁the ▁, ▁the ▁' ▁was\n",
      "\n",
      "1\n",
      "text:  ▁= ▁in ▁pioneering ▁, ▁records ▁likely unk ▁skull ▁, > ▁the ▁\" ▁south ▁ s ▁return ▁pm ▁and ▁head ▁stevens ▁by ▁followed ▁, ▁000 ▁and ▁drive ▁stone ▁the ▁, ▁the ▁' ▁was\n",
      "pred tags:  ▁= ▁the ▁the ▁and ▁, ▁to > ▁, ▁and ▁ ▁ ▁. ▁korean < ▁ ▁to ▁, ▁the ▁of ▁' ▁the ▁by ▁and th ▁the ▁in ▁, ▁ ▁and ▁ s ▁a\n",
      "true tags:  ▁robert ▁facebook ▁television ▁jr ▁, ▁to > ▁surface ▁ ▁by ▁uss ▁. ▁of @ ▁agent ▁match ▁, ▁the ▁in ▁to ▁the ▁on ▁on ▁– ▁the ▁the ▁ ▁largest ▁steel ▁fact s ▁assassinated\n",
      "\n",
      "2\n",
      "text:  ▁robert ▁facebook ▁television ▁jr ▁, ▁to > ▁surface ▁ ▁by ▁uss ▁. ▁of @ ▁agent ▁match ▁, ▁the ▁in ▁to ▁the ▁on ▁on ▁– ▁the ▁the ▁ ▁largest ▁steel ▁fact s ▁assassinated\n",
      "pred tags:  ▁ ▁, ▁. . ▁and ▁the ▁, ▁of < ▁the ▁ <eos> ▁the - ▁of ▁, ▁and ▁ ▁the ▁the ▁ ▁the ▁the ▁00 ▁ ▁ < ▁ ▁ ▁that ▁ ▁in\n",
      "true tags:  ▁ ▁likes ▁broadcaster ▁. ▁recording ▁fall ▁ ▁also < ▁his ▁guam ▁\" ▁the - ▁and ▁was ▁the ▁side ▁0000 ▁ ▁end ▁january ▁one ▁000 ▁ ▁plot < ▁ ▁, ▁that ▁launch ▁in\n",
      "\n",
      "3\n",
      "text:  ▁ ▁likes ▁broadcaster ▁. ▁recording ▁fall ▁ ▁also < ▁his ▁guam ▁\" ▁the - ▁and ▁was ▁the ▁side ▁0000 ▁ ▁end ▁january ▁one ▁000 ▁ ▁plot < ▁ ▁, ▁that ▁launch ▁in\n",
      "pred tags:  < ▁of ▁, <eos> ▁of ▁of < ▁used unk ▁father ▁, ▁. ▁ @ ▁the ▁released ▁ ▁of ▁, < ▁of ▁0000 ▁of th < ▁= unk < ▁and ▁the ▁of ▁the\n",
      "true tags:  < ▁during ▁for ▁, ▁their ▁out @ ▁point unk ▁surroundings ▁and ▁ ▁southern @ ▁gave ▁scheduled ▁same ▁armour ▁. < ▁of ▁00 ▁side ▁) < ▁. unk < ▁and ▁the ▁followed ▁a\n",
      "\n",
      "4\n",
      "text:  < ▁during ▁for ▁, ▁their ▁out @ ▁point unk ▁surroundings ▁and ▁ ▁southern @ ▁gave ▁scheduled ▁same ▁armour ▁. < ▁of ▁00 ▁side ▁) < ▁. unk < ▁and ▁the ▁followed ▁a\n",
      "pred tags:  unk ▁the ▁the ▁and ▁own ▁of - ▁of > ▁, ▁the < ▁0000 - ▁the ▁to ▁time ▁, <eos> unk ▁the ▁ ▁of ▁, unk <eos> > unk ▁the ▁ ▁by ▁\n",
      "true tags:  unk ▁the ▁the ▁ ▁fifth ▁of - ▁to > ▁, ▁uss < ▁tip ▁00 ▁ ▁to ▁day ▁to ▁they unk ▁the ▁. ▁and ▁spoke unk ▁the > unk ▁wood ▁scope ▁on ▁palace\n",
      "\n",
      "5\n",
      "text:  unk ▁the ▁the ▁ ▁fifth ▁of - ▁to > ▁, ▁uss < ▁tip ▁00 ▁ ▁to ▁day ▁to ▁they unk ▁the ▁. ▁and ▁spoke unk ▁the > unk ▁wood ▁scope ▁on ▁palace\n",
      "pred tags:  > ▁ ▁ < ▁century ▁the @ ▁the ▁ ▁and ▁ unk ▁of ▁ < ▁the ▁, ▁the ▁were > ▁ <eos> ▁the ▁with > ▁ ▁ > ▁, ▁of ▁the ▁of\n",
      "true tags:  > ▁week ▁forerunner < ▁studio ▁shape @ ▁it ▁is ▁screaming ▁ unk ▁of ▁the < ▁be ▁on ▁00 ▁were > ▁film ▁after ▁to ▁of > ▁film ▁apart > ▁, ▁of ▁00 ▁conspiracy\n",
      "\n",
      "6\n",
      "text:  > ▁week ▁forerunner < ▁studio ▁shape @ ▁it ▁is ▁screaming ▁ unk ▁of ▁the < ▁be ▁on ▁00 ▁were > ▁film ▁after ▁to ▁of > ▁film ▁apart > ▁, ▁of ▁00 ▁conspiracy\n",
      "pred tags:  ▁, ▁, ▁of unk ▁, ▁of - ▁was ▁a ▁, < > ▁the ▁ unk eton ▁the ▁ ▁released ▁, ▁was ▁the ▁the ▁the ▁, ▁was ▁from ▁ ▁and ▁the ▁ ▁,\n",
      "true tags:  ▁= ▁. ▁to unk ▁album ▁than ▁ ▁being ▁considered ▁into < > ▁taiwan ▁third unk ▁at ▁bbc ▁millimetres ▁located ▁him ▁, ▁january ▁mark ▁ ▁de ▁is ▁musically ▁ ▁the ▁work ▁february ▁involving\n",
      "\n",
      "7\n",
      "text:  ▁= ▁. ▁to unk ▁album ▁than ▁ ▁being ▁considered ▁into < > ▁taiwan ▁third unk ▁at ▁bbc ▁millimetres ▁located ▁him ▁, ▁january ▁mark ▁ ▁de ▁is ▁musically ▁ ▁the ▁work ▁february ▁involving\n",
      "pred tags:  ▁= <eos> ▁the > ▁, ▁the < ▁a ▁the ▁the unk ▁, ▁, ▁ > ▁the ▁ ▁( ▁in ▁to ▁and ▁0000 ▁ < ▁ ▁a ▁, < ▁ ▁in ▁0000 ▁the\n",
      "true tags:  <eos> ▁000 ▁ > ▁, ▁wood < ▁a ▁by ▁an unk ▁tú ▁. ▁coalition > ▁ ▁america ▁( ▁approximately ▁on ▁angela ▁00 ▁antony < ▁manila ▁presumed ▁, < ▁building ▁began ▁. ▁members\n",
      "\n",
      "8\n",
      "text:  <eos> ▁000 ▁ > ▁, ▁wood < ▁a ▁by ▁an unk ▁tú ▁. ▁coalition > ▁ ▁america ▁( ▁approximately ▁on ▁angela ▁00 ▁antony < ▁manila ▁presumed ▁, < ▁building ▁began ▁. ▁members\n",
      "pred tags:  <eos> th < ▁, ▁and ▁, unk ▁ ▁the ▁ > ▁the <eos> ▁of ▁, < ▁, ▁0000 ▁0 ▁the ▁' ▁ ▁and unk ▁, ▁to ▁and unk ▁, ▁to <eos> ▁of\n",
      "true tags:  <eos> ▁ < ▁the ▁back ▁. unk ▁closer ▁many ▁ > ▁\" ▁the ▁fought ▁the < ▁in ▁0 ▁0 ▁butler ▁' ▁opening ▁and unk ▁. ▁lost ▁stating unk ▁achieved ▁to ▁among ▁of\n",
      "\n",
      "9\n",
      "text:  <eos> ▁ < ▁the ▁back ▁. unk ▁closer ▁many ▁ > ▁\" ▁the ▁fought ▁the < ▁in ▁0 ▁0 ▁butler ▁' ▁opening ▁and unk ▁. ▁lost ▁stating unk ▁achieved ▁to ▁among ▁of\n",
      "pred tags:  <eos> < unk ▁ ▁to <eos> > ▁to ▁of < ▁, ▁. ▁ ▁on ▁ unk ▁the ▁ ▁ ▁of s ▁of ▁the > <eos> ▁the ▁that > ▁the ▁the ▁the ▁the\n",
      "true tags:  ▁robert @ unk ▁hills ▁0 <eos> > ▁relative ▁to < ▁was ▁reached ▁typhoon ▁the ▁nickname unk ▁the ▁ ▁ ▁' s ▁weekends ▁octavia > <eos> ▁. ▁\" > ▁ ▁extend ▁the ▁the\n",
      "\n",
      "10\n",
      "text:  ▁robert @ unk ▁hills ▁0 <eos> > ▁relative ▁to < ▁was ▁reached ▁typhoon ▁the ▁nickname unk ▁the ▁ ▁ ▁' s ▁weekends ▁octavia > <eos> ▁. ▁\" > ▁ ▁extend ▁the ▁the\n",
      "pred tags:  ▁ - > ▁, ▁ <eos> ▁, ▁to ▁the unk ▁released ▁the ▁, ▁ ▁\" > ▁ < < s ▁ ▁. ▁to ▁, <eos> <eos> ▁. ▁, < ▁the ▁portuguese ▁\n",
      "true tags:  ▁ , > ▁with ▁base ▁the ▁) ▁of ▁be unk ▁the ▁number ▁weakened ▁first ▁\" > ▁us @ @ s ▁hold ▁in ▁on ▁in ▁some <eos> ▁ ▁plants < ▁beyond ▁ ▁\n",
      "\n",
      "11\n",
      "text:  ▁ , > ▁with ▁base ▁the ▁) ▁of ▁be unk ▁the ▁number ▁weakened ▁first ▁\" > ▁us @ @ s ▁hold ▁in ▁on ▁in ▁some <eos> ▁ ▁plants < ▁beyond ▁ ▁\n",
      "pred tags:  < @ ▁ ▁the ▁of ▁ ▁, ▁the eton > ▁ ▁of ▁to ▁time ▁. ▁, ▁, - - ▁ ▁the ▁the ▁the ▁the ▁of <eos> < ▁, unk ▁the < <\n",
      "true tags:  < @ ▁ ▁platoons ▁x ▁ ▁. ▁ ▁the > ▁remaining ▁two ▁steadily ▁french ▁the ▁000 ▁and . . ▁season ▁on ▁australia ▁the ▁the ▁of <eos> [ ▁in unk ▁simple < <\n",
      "\n",
      "12\n",
      "text:  < @ ▁ ▁platoons ▁x ▁ ▁. ▁ ▁the > ▁remaining ▁two ▁steadily ▁french ▁the ▁000 ▁and . . ▁season ▁on ▁australia ▁the ▁the ▁of <eos> [ ▁in unk ▁simple < <\n",
      "pred tags:  unk - < ▁, ▁ < <eos> < ▁ ▁ ▁in ▁ ▁in ▁ ▁ ▁ ▁the @ @ ▁, ▁the ▁, ▁ ▁ ▁the <eos> ▁the ▁the > ▁ unk unk\n",
      "true tags:  unk ▁000 @ ▁and . < ▁he < ▁best ▁void ▁option ▁on ▁and ▁empire ▁next ▁on ▁space @ @ ▁. ▁jane ▁, ▁other ▁life ▁the ▁= ▁it ▁asia > ▁grave unk unk\n",
      "\n",
      "13\n",
      "text:  unk ▁000 @ ▁and . < ▁he < ▁best ▁void ▁option ▁on ▁and ▁empire ▁next ▁on ▁space @ @ ▁. ▁jane ▁, ▁other ▁life ▁the ▁= ▁it ▁asia > ▁grave unk unk\n",
      "pred tags:  > ▁ - ▁the @ unk ▁was unk ▁ ▁, ▁to ▁the ▁the ▁, ▁day ▁the ▁, - - <eos> ▁' ▁and ▁ ▁, ▁ ▁= ▁was ▁, ▁, ▁. > >\n",
      "true tags:  > ▁twitter - ▁squads ▁the unk ▁also unk ▁pitcher ▁. ▁. ▁the ▁was ▁and ▁big ▁december ▁in ▁00 ▁0 ▁david ▁has ▁the ▁. ▁of ▁country ▁= ▁' ▁. ▁in ▁registration > >\n",
      "\n",
      "14\n",
      "text:  > ▁twitter - ▁squads ▁the unk ▁also unk ▁pitcher ▁. ▁. ▁the ▁was ▁and ▁big ▁december ▁in ▁00 ▁0 ▁david ▁has ▁the ▁. ▁of ▁country ▁= ▁' ▁. ▁in ▁registration > >\n",
      "pred tags:  ▁, ▁, @ ▁, ▁ > ▁used > ▁, <eos> <eos> ▁ ▁released ▁the ▁ ▁0000 ▁the ▁ ▁ ▁ ▁been ▁ <eos> ▁the ▁. ▁= s <eos> ▁the ▁ ▁ ▁\n",
      "true tags:  ▁is ▁followers @ ▁. ▁album > ▁complained > ▁in <eos> <eos> ▁billboard ▁a ▁its ▁thing ▁00 ▁canada ▁in ▁kilometres ▁letterman ▁weakened ▁united ▁ ▁ ▁' ▁plot s ▁it ▁energy ▁and ▁boats ▁guard\n",
      "\n",
      "15\n",
      "text:  ▁is ▁followers @ ▁. ▁album > ▁complained > ▁in <eos> <eos> ▁billboard ▁a ▁its ▁thing ▁00 ▁canada ▁in ▁kilometres ▁letterman ▁weakened ▁united ▁ ▁ ▁' ▁plot s ▁it ▁energy ▁and ▁boats ▁guard\n",
      "pred tags:  ▁a ▁, - <eos> ▁, ▁, ▁that ▁, ▁the <eos> <eos> ▁000 ▁ ▁first ▁, ▁ ▁, ▁the ▁( ▁, ▁to ▁states < < s ▁= ▁ ▁was ▁, ▁the ▁, ▁,\n",
      "true tags:  ▁an ▁added ▁tv ▁he ▁was ▁of ▁that ▁than ▁mlb ▁head ▁on ▁top ▁severe ▁client ▁\" ▁in ▁and ▁) ▁( ▁had ▁until ▁kingdom < < s ▁= ▁their ▁is ▁and ▁began ▁, ▁and\n",
      "\n",
      "16\n",
      "text:  ▁an ▁added ▁tv ▁he ▁was ▁of ▁that ▁than ▁mlb ▁head ▁on ▁top ▁severe ▁client ▁\" ▁in ▁and ▁) ▁( ▁had ▁until ▁kingdom < < s ▁= ▁their ▁is ▁and ▁began ▁, ▁and\n",
      "pred tags:  ▁ ▁to ▁, ▁was ▁released ▁the ▁the ▁the ▁, ▁of ▁the ▁of ▁ ▁, ▁. ▁the ▁the ▁, ▁ ▁been ▁0000 ▁hearts unk unk ▁ ▁= ▁own ▁a ▁the ▁to ▁and ▁the\n",
      "true tags:  ▁english ▁contributed ▁in ▁placed ▁intended ▁ ▁the ▁is ▁. ▁vi ▁the ▁latin ▁tropical ▁states ▁. ▁las ▁the ▁, ▁0 ▁stevens ▁the ▁, unk unk ▁oldest ▁= ▁ ▁a ▁environmental ▁to ▁ ▁several\n",
      "\n",
      "17\n",
      "text:  ▁english ▁contributed ▁in ▁placed ▁intended ▁ ▁the ▁is ▁. ▁vi ▁the ▁latin ▁tropical ▁states ▁. ▁las ▁the ▁, ▁0 ▁stevens ▁the ▁, unk unk ▁oldest ▁= ▁ ▁a ▁environmental ▁to ▁ ▁several\n",
      "pred tags:  ▁ ▁to ▁the ▁in ▁to < ▁ ▁a <eos> ▁, ▁ ▁ ▁storm ▁, <eos> ▁vegas ▁ ▁and ▁ ▁' ▁ ▁and > > ▁ ▁= < ▁ ▁ ▁the < ▁\n",
      "true tags:  ▁film ▁to ▁buffalo ▁the ▁as < ▁characters ▁ <eos> ▁was ▁morning ▁songs ▁storm ▁( ▁ ▁vegas ▁next ▁and ▁ ▁on ▁only ▁spain > > ▁schools <eos> ] ▁joint ▁design ▁include < ▁of\n",
      "\n",
      "18\n",
      "text:  ▁film ▁to ▁buffalo ▁the ▁as < ▁characters ▁ <eos> ▁was ▁morning ▁songs ▁storm ▁( ▁ ▁vegas ▁next ▁and ▁ ▁on ▁only ▁spain > > ▁schools <eos> ] ▁joint ▁design ▁include < ▁of\n",
      "pred tags:  ▁was ▁the ▁, ▁ ▁a unk ▁, < <eos> ▁released ▁, ▁. ▁, ▁ < ▁. ▁day ▁the < ▁the ▁the ▁, ▁, ▁, ▁, <eos> ▁ ▁ ▁, ▁the unk ▁the\n",
      "true tags:  ▁, ▁their ▁. ▁0 ▁a unk ▁are < ▁ ▁the ▁of ▁and ▁by ▁see < ▁against ▁day ▁the @ ▁his ▁power ▁and ▁' ▁ ▁are <eos> ▁ability ▁venture ▁compliance ▁responding unk ▁his\n",
      "\n",
      "19\n",
      "text:  ▁, ▁their ▁. ▁0 ▁a unk ▁are < ▁ ▁the ▁of ▁and ▁by ▁see < ▁against ▁day ▁the @ ▁his ▁power ▁and ▁' ▁ ▁are <eos> ▁ability ▁venture ▁compliance ▁responding unk ▁his\n",
      "pred tags:  ▁and ▁own <eos> ▁ ▁ > ▁the unk < ▁ ▁the ▁the ▁the ▁the unk ▁the ▁, ▁ - ▁first ▁, ▁the s < ▁the <eos> ▁to ▁. ▁, ▁to > ▁\n",
      "true tags:  ▁television ▁overall ▁he nd ▁return > ▁lifeless unk < ▁first ▁0 ▁number ▁the ▁table unk ▁former ▁on ▁turret . ▁show ▁she ▁norway ▁mother < ▁founded ▁the ▁to ▁by ▁\" ▁to > ▁freedmen\n",
      "\n",
      "20\n",
      "text:  ▁television ▁overall ▁he nd ▁return > ▁lifeless unk < ▁first ▁0 ▁number ▁the ▁table unk ▁former ▁on ▁turret . ▁show ▁she ▁norway ▁mother < ▁founded ▁the ▁to ▁by ▁\" ▁to > ▁freedmen\n",
      "pred tags:  ▁, ▁, ▁was ▁division ▁to ▁, ▁, > unk ▁time ▁ ▁of ▁ ▁, > ▁ ▁the ▁, @ ▁, ▁was ▁, ▁, unk ▁in ▁ ▁the ▁the ▁. ▁the ▁ ▁,\n",
      "true tags:  ▁and ▁fan ▁played ▁battalion ▁to ▁iron ▁, > unk ▁of ▁january ▁one ▁time ▁at > ▁ ▁ ▁and @ ▁for ▁has ▁, ▁ unk ▁in ▁film ▁create ▁five ▁through ▁ ▁ ▁.\n",
      "\n",
      "21\n",
      "text:  ▁and ▁fan ▁played ▁battalion ▁to ▁iron ▁, > unk ▁of ▁january ▁one ▁time ▁at > ▁ ▁ ▁and @ ▁for ▁has ▁, ▁ unk ▁in ▁film ▁create ▁five ▁through ▁ ▁ ▁.\n",
      "pred tags:  ▁the ▁of ▁in ▁, ▁the ▁ ▁and ▁, > ▁the ▁0000 ▁of ▁, ▁the ▁, < < ▁the - ▁the ▁been ▁and < > ▁the ▁was ▁a ▁ ▁the < < <eos>\n",
      "true tags:  ▁theatre ▁base ▁college ▁in ▁the ▁for ▁and ▁. > ▁ ▁, ▁on ▁it ▁right ▁' < < ▁hull ▁00 ▁a ▁over ▁american < > ▁ ▁follows ▁smooth ▁ ▁the < @ ▁on\n",
      "\n",
      "22\n",
      "text:  ▁theatre ▁base ▁college ▁in ▁the ▁for ▁and ▁. > ▁ ▁, ▁on ▁it ▁right ▁' < < ▁hull ▁00 ▁a ▁over ▁american < > ▁ ▁follows ▁smooth ▁ ▁the < @ ▁on\n",
      "pred tags:  ▁, ▁of ▁of ▁the ▁ ▁the ▁the <eos> ▁, < ▁and ▁the ▁was ▁to s unk unk ▁, ▁ ▁ ▁the ▁ unk ▁, < ▁the ▁and < ▁ unk - ▁the\n",
      "true tags:  ▁actor ▁increase ▁football ▁a ▁ ▁warship ▁while ▁below ▁was < ▁a ▁the ▁made ▁) s unk unk ▁given ▁mi ▁guest ▁her ▁beauty unk ▁( < ▁ezra ▁, < ▁integration unk - ▁the\n",
      "\n",
      "23\n",
      "text:  ▁actor ▁increase ▁football ▁a ▁ ▁warship ▁while ▁below ▁was < ▁a ▁the ▁made ▁) s unk unk ▁given ▁mi ▁guest ▁her ▁beauty unk ▁( < ▁ezra ▁, < ▁integration unk - ▁the\n",
      "pred tags:  ▁ ▁in ▁league ▁ < ▁in ▁the ▁the ▁released unk ▁ ▁ ▁the ▁, ▁ > > ▁the ▁) ▁of ▁. ▁of > ▁ unk ▁ ▁and unk ▁in > @ ▁\n",
      "true tags:  ▁. ▁as ▁for ▁reserve < ▁hulls ▁they ▁is ▁drafted unk ▁00 ▁latin ▁landfall ▁. ▁first > > ▁more ▁) ▁appearance ▁friend ▁had > ▁books unk ▁greer ▁radio unk ▁of > @ ▁same\n",
      "\n",
      "24\n",
      "text:  ▁. ▁as ▁for ▁reserve < ▁hulls ▁they ▁is ▁drafted unk ▁00 ▁latin ▁landfall ▁. ▁first > > ▁more ▁) ▁appearance ▁friend ▁had > ▁books unk ▁greer ▁radio unk ▁of > @ ▁same\n",
      "pred tags:  ▁the ▁a ▁the ▁, unk ▁. ▁were ▁a ▁by > ▁ ▁ ▁in <eos> ▁season ▁, ▁, ▁than ▁, ▁of ▁, ▁been ▁, ▁, > ▁of ▁. > ▁the ▁ - ▁year\n",
      "true tags:  ▁he ▁well ▁the ▁position unk ▁meant ▁each ▁a ▁seventh > ▁ ▁pop ▁on ▁although ▁feud ▁heavyweight ▁in ▁sloped ▁to ▁. ▁is ▁earned ▁minor ▁0 > ▁, ▁ > ▁ ▁from ▁0 ▁day\n",
      "\n",
      "25\n",
      "text:  ▁he ▁well ▁the ▁position unk ▁meant ▁each ▁a ▁seventh > ▁ ▁pop ▁on ▁although ▁feud ▁heavyweight ▁in ▁sloped ▁to ▁. ▁is ▁earned ▁minor ▁0 > ▁, ▁ > ▁ ▁from ▁0 ▁day\n",
      "pred tags:  ▁was ▁as ▁ ▁. > ▁that ▁of ▁ ▁ ▁, < ▁, ▁the ▁the ▁, ▁ ▁the ▁, ▁the <eos> ▁a ▁the ▁ ▁ ▁ ▁and < ▁, < ▁the ▁ ▁,\n",
      "true tags:  ▁had ▁. ▁university ▁0 > ▁that ▁have ▁cladogram ▁overall ▁' @ ▁songs ▁september ▁several ▁was ▁champion ▁australia ▁surfaces ▁the ▁butler ▁lester ▁$ ▁, ▁– ▁, ▁a @ ▁countries < ▁relatives ▁was ▁,\n",
      "\n",
      "26\n",
      "text:  ▁had ▁. ▁university ▁0 > ▁that ▁have ▁cladogram ▁overall ▁' @ ▁songs ▁september ▁several ▁was ▁champion ▁australia ▁surfaces ▁the ▁butler ▁lester ▁$ ▁, ▁– ▁, ▁a @ ▁countries < ▁relatives ▁was ▁,\n",
      "pred tags:  ▁been <eos> ▁of ▁ ▁, ▁the ▁been ▁, ▁, s - ▁, ▁0000 ▁years ▁released ▁, ▁, ▁, ▁ ▁' ▁, ▁00 ▁and ▁00 ▁and ▁ - ▁. unk ▁, ▁released ▁and\n",
      "true tags:  ▁a <eos> ▁of ▁miles ▁of ▁iron ▁detailed ▁modified ▁in s - ▁charts ▁0 ▁naval ▁with ▁ ▁and ▁to ▁north ▁admissions ▁' ▁0 ▁was ▁0 ▁these ▁middle - ▁: unk ▁of ▁laid ▁\n",
      "\n",
      "27\n",
      "text:  ▁a <eos> ▁of ▁miles ▁of ▁iron ▁detailed ▁modified ▁in s - ▁charts ▁0 ▁naval ▁with ▁ ▁and ▁to ▁north ▁admissions ▁' ▁0 ▁was ▁0 ▁these ▁middle - ▁: unk ▁of ▁laid ▁\n",
      "pred tags:  ▁ <eos> ▁the ▁( ▁the ▁ ▁in ▁in ▁the ▁ @ ▁= ▁ ▁ ▁the < ▁the ▁the ▁korean ▁, s ▁ ▁released ▁ ▁ ▁of @ ▁\" > ▁the ▁down <\n",
      "true tags:  ▁guest ▁melinda ▁michigan ▁( ▁rock ▁was ▁histories ▁from ▁the ▁paintings @ ▁. ▁just ▁battles ▁the < ▁on ▁help ▁of ▁inquiries s ▁million ▁a ▁) ▁are ▁ @ ▁malaysia > ▁those ▁down <\n",
      "\n",
      "28\n",
      "text:  ▁guest ▁melinda ▁michigan ▁( ▁rock ▁was ▁histories ▁from ▁the ▁paintings @ ▁. ▁just ▁battles ▁the < ▁on ▁help ▁of ▁inquiries s ▁million ▁a ▁) ▁are ▁ @ ▁malaysia > ▁those ▁down <\n",
      "pred tags:  ▁of ▁ ▁, ▁ ▁, ▁released ▁, ▁the ▁ ▁, - <eos> ▁00 ▁of ▁ unk ▁the ▁the ▁the ▁, ▁ ▁viewers ▁ ▁, ▁the < - ▁. ▁, ▁of ▁the unk\n",
      "true tags:  ▁ ▁newman ▁wolverines ▁00 ▁music ▁only ▁, ▁ ▁0000 ▁to ▁person <eos> ▁east ▁determined ▁hardy unk ▁prime ▁ ▁monument ▁shot ▁attraction ▁in ▁daughter ▁. ▁the @ ▁friendly ▁( ▁management ▁killed ▁first unk\n",
      "\n",
      "29\n",
      "text:  ▁ ▁newman ▁wolverines ▁00 ▁music ▁only ▁, ▁ ▁0000 ▁to ▁person <eos> ▁east ▁determined ▁hardy unk ▁prime ▁ ▁monument ▁shot ▁attraction ▁in ▁daughter ▁. ▁the @ ▁friendly ▁( ▁management ▁killed ▁first unk\n",
      "pred tags:  < ▁of ▁ th ▁. ▁a ▁and < ▁, ▁the ▁, <eos> ▁of ▁that ▁, > ▁minister < ▁was ▁in ▁. ▁the ▁of <eos> ▁ - ▁. ▁ ▁, ▁. ▁time >\n",
      "true tags:  @ ▁, ▁in ▁km ▁, ▁adopted ▁they < ▁mlb ▁reference ▁marine ▁\" ▁of ▁control ▁boyz > ▁in < ▁0 ▁up ▁to ▁00 ▁of ▁though ▁university - ▁alternative ▁00 ▁strategies ▁. ▁, >\n",
      "\n"
     ]
    }
   ],
   "source": [
    "for batch in test_iterator:\n",
    "    pred = model(batch.text)\n",
    "    pred = tt.softmax(pred, dim=1)\n",
    "    pred = tt.argmax(pred, dim=1)\n",
    "    pred_tags = reverse(TEXT, pred)\n",
    "    true_tags = reverse(TEXT, batch.target)\n",
    "    true_text = reverse(TEXT, batch.text)\n",
    "    \n",
    "    for i in range(len(pred_tags)):\n",
    "        print(i)\n",
    "        print('text: ', true_text[i])\n",
    "        print('pred tags: ', pred_tags[i])\n",
    "        print('true tags: ', true_tags[i])\n",
    "        print()\n",
    "        \n",
    "    break"
   ]
  },
  {
   "cell_type": "code",
   "execution_count": 0,
   "metadata": {
    "colab": {
     "base_uri": "https://localhost:8080/",
     "height": 34
    },
    "colab_type": "code",
    "id": "QTk-M41btTP-",
    "outputId": "5444ccb0-5c97-4f61-ce5c-4d68449d5c39"
   },
   "outputs": [
    {
     "data": {
      "text/plain": [
       "torch.Size([30, 32])"
      ]
     },
     "execution_count": 72,
     "metadata": {
      "tags": []
     },
     "output_type": "execute_result"
    }
   ],
   "source": [
    "pred = model(example_batch.text)\n",
    "pred = tt.softmax(pred, dim=1)\n",
    "pred = tt.argmax(pred, dim=1)\n",
    "pred.shape"
   ]
  },
  {
   "cell_type": "code",
   "execution_count": 0,
   "metadata": {
    "colab": {
     "base_uri": "https://localhost:8080/",
     "height": 527
    },
    "colab_type": "code",
    "id": "oxIAoKsTvXQL",
    "outputId": "87a93bd2-f046-4df8-ce96-492638d4d797"
   },
   "outputs": [
    {
     "data": {
      "text/plain": [
       "['<eos> ▁= unk > ▁, ▁ < ▁to > ▁the ▁ ▁, ▁0 ▁ ▁ ▁with ▁, ▁to ▁ ▁ ▁= ▁a ▁, ▁= > ▁the ▁the ▁the ▁released ▁the ▁, ▁',\n",
       " '▁= ▁= > ▁ ▁the ▁. unk ▁, ▁, ▁, ▁of ▁of ▁ ▁, ▁was ▁ ▁and ▁the ▁, ▁, ▁= ▁ ▁of ▁ ▁ ▁, ▁and ▁ ▁by ▁ ▁the ▁in',\n",
       " \"ria ▁= ▁, ▁, ▁' <eos> > ▁of < <eos> ▁a ▁the < ▁the ▁, ▁' ▁, ▁were ▁and ▁= ▁= < ▁ ▁ ▁the < ▁was ▁, ▁the ▁than hed ▁the\",\n",
       " \"▁of <eos> ▁, ▁the ▁and ▁the ▁ ▁the - ▁ ▁ ▁in - ▁ <eos> ▁on ▁out ▁from ▁that ▁= <eos> unk ▁to ▁was apo unk ▁released ▁a ▁' ▁the r ▁\",\n",
       " '▁ii <eos> ▁ii ▁ ▁with ▁, ▁the ▁ @ ▁to ▁ <eos> @ ▁of ▁the ▁the ▁for ▁the ▁the ▁= <eos> > ▁a ▁= ▁was > ▁the ▁be ▁, ▁of uli ▁,',\n",
       " \"▁, ▁ ▁ ▁' ▁the ▁and ▁ ▁of - ▁, ▁. ▁. - ▁the ▁to ▁ ▁from ▁, ▁ <eos> < ▁, ▁reviews <eos> ▁, ▁ ▁a ▁the ▁and ▁the ▁, ▁of\",\n",
       " '▁= ▁, ▁and <eos> ▁, ▁ ▁, ▁the < ▁and <eos> ▁ ▁ ▁of ▁the ▁, ▁the <eos> ▁, <eos> unk nell ▁of <eos> ▁the ▁that ▁. ▁and ▁as ▁on ▁, ▁the',\n",
       " '<eos> ▁the < ▁ ▁as ▁, ▁and ▁ unk ▁ ▁, < < ▁, ▁ <eos> ▁ ▁the ▁of ▁the > ▁ ▁and ▁season ▁. ▁the ▁to ▁the ▁the ▁, <eos> ▁to',\n",
       " '<eos> ▁ unk ▁released ▁a ▁the ▁a ▁of > ▁, ▁, unk unk ▁a < <eos> ▁of ▁ ▁the ▁in ▁, ▁, ▁the ▁ ▁. ▁ ▁of ▁was ▁own ▁the <eos> ▁the',\n",
       " '▁ ▁of > ▁ ▁ ▁, ▁be <eos> ▁, ▁, ▁also > > ▁in unk ▁was <eos> ▁the ▁, ▁the < ▁and ▁released ▁ ▁the ▁the ▁. ▁a ▁. ▁ <eos> ▁,',\n",
       " '▁a ▁in ▁, ▁ ▁, ▁that ▁used ▁of ▁the ▁and ▁tons ▁, ▁, ▁the > ▁on < ▁ ▁. ▁was unk ▁\" ▁than ▁ ▁a <eos> <eos> ▁from ▁of ▁of ▁= <eos>',\n",
       " '▁ ▁the ▁the ▁had ▁ ▁the ▁the ▁the ▁ ▁was ▁the ▁to <eos> <eos> ▁, ▁the unk ▁ <eos> ▁released > ▁the ▁, ▁ < ▁in ▁ ▁the ▁ ▁of ▁= ▁in',\n",
       " \"ria ▁ ▁ ▁released ▁on ▁. ▁the ▁ ▁of ▁a ▁ ▁the ▁ ▁ ▁, ▁the > ▁, <eos> ▁, ▁, ▁was ▁the ▁' unk ▁by ▁of ▁ < ▁the ▁= ▁the\",\n",
       " \"▁of ▁ ▁of ▁ ▁' ▁= ▁ ▁than ▁and ▁, ▁, < ▁, ▁time ▁the ▁of ▁, ▁released <eos> ▁the ▁the ▁been ▁ ▁a > ▁of ▁the dan - ▁ ▁, ▁\",\n",
       " '▁ ▁, ▁the ▁of ▁been ▁the ▁, ▁of ▁the ▁in s unk ▁a ▁years ▁, ▁than ▁in ▁to ▁= ▁, ▁stone ▁ ▁, ▁ ▁, ▁of th ▁, @ ▁, ▁the ▁',\n",
       " '▁ ▁had ▁to ▁the ▁used ▁the ▁and ▁a ▁ ▁the ▁ > ▁the ▁the ▁the ▁, ▁to ▁the ▁= ▁and ▁, ▁. ▁and ▁ ▁the ▁to ▁also ▁the - ▁to ▁a ▁,',\n",
       " \"< ▁to ▁and ▁, ▁the ▁of ▁the ▁of ▁' ▁, ▁. ▁, ▁ ▁the ▁, ▁the ▁was ▁the ▁= ▁' ▁, ▁the ▁, ▁, < ▁the ▁by ▁a ▁ ▁the tav ▁in\",\n",
       " 'unk ▁in ▁down ▁the ▁the ▁, ▁was ▁the s ▁and ▁ ▁father ▁ ▁ ▁and ▁was ▁the ▁ ▁= ▁the ▁the ▁ ▁, ▁the unk ▁ ▁and ▁in ▁and ▁ r ▁the',\n",
       " '> ▁the ▁the ▁ ▁father ▁the ▁the ▁ ▁ ▁be <eos> ▁to ▁ ▁of ▁ ▁released ▁the ▁of ▁= ▁ ▁ ▁, <eos> ▁the > ▁of ▁of ▁the ▁the ▁war uli ▁',\n",
       " \"▁, ▁' ▁ ▁ ▁, ▁of ▁of ▁, th eton ▁ <eos> ▁of ▁, ▁was ▁on ▁on s <eos> ▁. ▁of ▁ ▁weekly ▁ ▁, ▁korean ▁the ▁ ▁ ▁the ▁, <\",\n",
       " \"▁ii s ▁ ▁, ▁and ▁and ▁the ▁released ▁century ▁on ▁, <eos> ▁the ▁and < ▁the ▁. ▁ <eos> ▁ ▁the ▁of ▁, ▁' <eos> ▁ ▁ ▁, ▁, ▁in ▁= unk\",\n",
       " \"▁ ▁ ▁ ▁0000 ▁been ▁the ▁ ▁first ▁, ▁ ▁been ▁the ▁in ▁in - ▁, ▁the ▁to ▁' < ▁ ▁, ▁ ▁the ▁of < ▁ <eos> ▁the ▁the ▁= >\",\n",
       " '▁, ▁of ▁, < ▁the ▁, ▁, ▁to ▁the ▁, < ▁0000 ▁the ▁the @ ▁ ▁0000 ▁and ▁been unk ▁, ▁and ▁ ▁ ▁of ▁the ▁ < ▁, ▁ ▁= ▁',\n",
       " \"▁ <eos> ▁the - ▁to ▁and ▁the ▁the ▁ ▁, unk ▁, < ▁korean - ▁, ▁ ▁' ▁a > ▁, ▁the < ▁ ▁to ▁the ▁, unk ▁= ▁, <eos> <\",\n",
       " '< ▁ ▁ @ ▁of ▁ ▁in ▁the ▁ <eos> > ▁and unk ▁the ▁on ▁the ▁and ▁the ▁in ▁, ▁ ▁ unk ▁, ▁to < <eos> > ▁released ▁. <eos> unk',\n",
       " \"us jin ▁ - ▁' ▁, <eos> ▁ ▁. <eos> ▁ ▁ > ▁korean ▁york ▁be ▁the ▁ ▁the ▁. ▁that ▁of > ▁the ▁the ▁ <eos> ▁ ▁by <eos> <eos> >\",\n",
       " '▁, ▁, ▁. ▁, ▁the ▁and ese ▁, <eos> ▁ ▁and ▁ ▁, ▁and ▁. ▁, ▁ ▁of ▁ ▁ ▁the ▁the ▁, ▁ th ▁ <eos> ▁, ▁the ▁ ▁= ▁',\n",
       " '▁and < ▁, ▁, ▁ ▁the ▁, ▁the ▁to ▁, < ▁to ▁, ▁the s ▁and ▁day ▁the ▁of ▁, ▁ ▁ ▁the ▁, < ▁the ▁= ▁the < ▁, ▁= ▁in',\n",
       " '▁, unk ▁of ▁, < < ▁and ▁ ▁the ▁released unk ▁, ▁the ▁ ▁ ▁after ▁, ▁ ▁the ▁and ▁, grom ▁ ▁the - ▁ ▁= ▁the unk ▁released ▁= ▁the',\n",
       " '<eos> > ▁the ▁of unk unk ▁was ▁century < eton > ▁ ▁ ▁year ▁ ▁the ▁, ▁and ▁, ▁was ▁. ▁ ▁, ▁ @ ▁ ▁. ▁to > ▁the ▁, ▁00']"
      ]
     },
     "execution_count": 73,
     "metadata": {
      "tags": []
     },
     "output_type": "execute_result"
    }
   ],
   "source": [
    "reverse(TEXT, pred)"
   ]
  },
  {
   "cell_type": "code",
   "execution_count": 0,
   "metadata": {
    "colab": {
     "base_uri": "https://localhost:8080/",
     "height": 34
    },
    "colab_type": "code",
    "id": "SjabYjYtwBPr",
    "outputId": "a7bfe6f2-aa02-48c2-cb9b-538770f15021"
   },
   "outputs": [
    {
     "data": {
      "text/plain": [
       "torch.Size([30, 32])"
      ]
     },
     "execution_count": 74,
     "metadata": {
      "tags": []
     },
     "output_type": "execute_result"
    }
   ],
   "source": [
    "temperature = 0.2 # try from 0 to 1\n",
    "pred = model(example_batch.text)\n",
    "pred = tt.softmax(pred.div(temperature), dim=1)\n",
    "pred = tt.argmax(pred, dim=1)\n",
    "pred.shape"
   ]
  },
  {
   "cell_type": "code",
   "execution_count": 0,
   "metadata": {
    "colab": {
     "base_uri": "https://localhost:8080/",
     "height": 34
    },
    "colab_type": "code",
    "id": "u1AvuuYpxq7m",
    "outputId": "879d35e4-bc86-4aad-aa6c-e318b453ef28"
   },
   "outputs": [
    {
     "data": {
      "text/plain": [
       "torch.Size([31, 32])"
      ]
     },
     "execution_count": 75,
     "metadata": {
      "tags": []
     },
     "output_type": "execute_result"
    }
   ],
   "source": [
    "new_sequence = tt.cat([example_batch.text, pred[:1, :]], 0)\n",
    "new_sequence.shape"
   ]
  },
  {
   "cell_type": "code",
   "execution_count": 0,
   "metadata": {
    "colab": {
     "base_uri": "https://localhost:8080/",
     "height": 34
    },
    "colab_type": "code",
    "id": "bEavLV5iyY1t",
    "outputId": "3d80d62b-d2a4-4cf9-ce2c-c38c789f708e"
   },
   "outputs": [
    {
     "data": {
      "text/plain": [
       "torch.Size([31, 32])"
      ]
     },
     "execution_count": 76,
     "metadata": {
      "tags": []
     },
     "output_type": "execute_result"
    }
   ],
   "source": [
    "pred = model(new_sequence)\n",
    "pred = tt.softmax(pred.div(temperature), dim=1)\n",
    "pred = tt.argmax(pred, dim=1)\n",
    "pred.shape"
   ]
  },
  {
   "cell_type": "code",
   "execution_count": 0,
   "metadata": {
    "colab": {
     "base_uri": "https://localhost:8080/",
     "height": 34
    },
    "colab_type": "code",
    "id": "pBocTRzPr2S-",
    "outputId": "28a2350d-b677-46ce-e8f8-fb8cdbd02e7f"
   },
   "outputs": [
    {
     "name": "stdout",
     "output_type": "stream",
     "text": [
      "torch.Size([50, 32])\n"
     ]
    }
   ],
   "source": [
    "new_sequence = example_batch.text\n",
    "with tt.no_grad():  # no tracking history\n",
    "    for i in range(20):\n",
    "        pred = model(new_sequence)\n",
    "        pred = tt.softmax(pred.div(temperature), dim=1)\n",
    "        pred = tt.argmax(pred, dim=1)\n",
    "        new_sequence = tt.cat([new_sequence, pred[:1, :]], 0)\n",
    "print(new_sequence.shape)"
   ]
  }
 ],
 "metadata": {
  "accelerator": "GPU",
  "colab": {
   "collapsed_sections": [],
   "name": "assignment_6.ipynb",
   "provenance": []
  },
  "kernelspec": {
   "display_name": "Python 3",
   "language": "python",
   "name": "python3"
  },
  "language_info": {
   "codemirror_mode": {
    "name": "ipython",
    "version": 3
   },
   "file_extension": ".py",
   "mimetype": "text/x-python",
   "name": "python",
   "nbconvert_exporter": "python",
   "pygments_lexer": "ipython3",
   "version": "3.7.3"
  },
  "widgets": {
   "application/vnd.jupyter.widget-state+json": {
    "09dc7219746e4764bbaa97bf4e3f232d": {
     "model_module": "@jupyter-widgets/controls",
     "model_name": "DescriptionStyleModel",
     "state": {
      "_model_module": "@jupyter-widgets/controls",
      "_model_module_version": "1.5.0",
      "_model_name": "DescriptionStyleModel",
      "_view_count": null,
      "_view_module": "@jupyter-widgets/base",
      "_view_module_version": "1.2.0",
      "_view_name": "StyleView",
      "description_width": ""
     }
    },
    "0d1d791818e24be7a499c272a916fc25": {
     "model_module": "@jupyter-widgets/controls",
     "model_name": "HBoxModel",
     "state": {
      "_dom_classes": [],
      "_model_module": "@jupyter-widgets/controls",
      "_model_module_version": "1.5.0",
      "_model_name": "HBoxModel",
      "_view_count": null,
      "_view_module": "@jupyter-widgets/controls",
      "_view_module_version": "1.5.0",
      "_view_name": "HBoxView",
      "box_style": "",
      "children": [
       "IPY_MODEL_32081c8d39ec4f36ae63c9f96d014101",
       "IPY_MODEL_f20e8054c96b422692c688597d16b6ef"
      ],
      "layout": "IPY_MODEL_9f95b112889f48e49f3fa060d8c7295d"
     }
    },
    "17f94b44a2c44dc89cc0595f3f68bac9": {
     "model_module": "@jupyter-widgets/base",
     "model_name": "LayoutModel",
     "state": {
      "_model_module": "@jupyter-widgets/base",
      "_model_module_version": "1.2.0",
      "_model_name": "LayoutModel",
      "_view_count": null,
      "_view_module": "@jupyter-widgets/base",
      "_view_module_version": "1.2.0",
      "_view_name": "LayoutView",
      "align_content": null,
      "align_items": null,
      "align_self": null,
      "border": null,
      "bottom": null,
      "display": null,
      "flex": null,
      "flex_flow": null,
      "grid_area": null,
      "grid_auto_columns": null,
      "grid_auto_flow": null,
      "grid_auto_rows": null,
      "grid_column": null,
      "grid_gap": null,
      "grid_row": null,
      "grid_template_areas": null,
      "grid_template_columns": null,
      "grid_template_rows": null,
      "height": null,
      "justify_content": null,
      "justify_items": null,
      "left": null,
      "margin": null,
      "max_height": null,
      "max_width": null,
      "min_height": null,
      "min_width": null,
      "object_fit": null,
      "object_position": null,
      "order": null,
      "overflow": null,
      "overflow_x": null,
      "overflow_y": null,
      "padding": null,
      "right": null,
      "top": null,
      "visibility": null,
      "width": null
     }
    },
    "1885e8beb0fc409fba26d5e3b3772049": {
     "model_module": "@jupyter-widgets/controls",
     "model_name": "HBoxModel",
     "state": {
      "_dom_classes": [],
      "_model_module": "@jupyter-widgets/controls",
      "_model_module_version": "1.5.0",
      "_model_name": "HBoxModel",
      "_view_count": null,
      "_view_module": "@jupyter-widgets/controls",
      "_view_module_version": "1.5.0",
      "_view_name": "HBoxView",
      "box_style": "",
      "children": [
       "IPY_MODEL_96d1c03b27ee4fb29d7fab5104fd75d2",
       "IPY_MODEL_a24e5b5543da4ce896bb2c8abdaec916"
      ],
      "layout": "IPY_MODEL_f941d5cbba8f48bfa168f2ff834afdb1"
     }
    },
    "1e8cceab048542e1bdaa5f74c80da7f1": {
     "model_module": "@jupyter-widgets/base",
     "model_name": "LayoutModel",
     "state": {
      "_model_module": "@jupyter-widgets/base",
      "_model_module_version": "1.2.0",
      "_model_name": "LayoutModel",
      "_view_count": null,
      "_view_module": "@jupyter-widgets/base",
      "_view_module_version": "1.2.0",
      "_view_name": "LayoutView",
      "align_content": null,
      "align_items": null,
      "align_self": null,
      "border": null,
      "bottom": null,
      "display": null,
      "flex": null,
      "flex_flow": null,
      "grid_area": null,
      "grid_auto_columns": null,
      "grid_auto_flow": null,
      "grid_auto_rows": null,
      "grid_column": null,
      "grid_gap": null,
      "grid_row": null,
      "grid_template_areas": null,
      "grid_template_columns": null,
      "grid_template_rows": null,
      "height": null,
      "justify_content": null,
      "justify_items": null,
      "left": null,
      "margin": null,
      "max_height": null,
      "max_width": null,
      "min_height": null,
      "min_width": null,
      "object_fit": null,
      "object_position": null,
      "order": null,
      "overflow": null,
      "overflow_x": null,
      "overflow_y": null,
      "padding": null,
      "right": null,
      "top": null,
      "visibility": null,
      "width": null
     }
    },
    "32081c8d39ec4f36ae63c9f96d014101": {
     "model_module": "@jupyter-widgets/controls",
     "model_name": "IntProgressModel",
     "state": {
      "_dom_classes": [],
      "_model_module": "@jupyter-widgets/controls",
      "_model_module_version": "1.5.0",
      "_model_name": "IntProgressModel",
      "_view_count": null,
      "_view_module": "@jupyter-widgets/controls",
      "_view_module_version": "1.5.0",
      "_view_name": "ProgressView",
      "bar_style": "success",
      "description": "epoch 1",
      "description_tooltip": null,
      "layout": "IPY_MODEL_3d466226ec824f55940e30d6dec9351a",
      "max": 2481,
      "min": 0,
      "orientation": "horizontal",
      "style": "IPY_MODEL_f2820adcad76413f91c5d8957beb213d",
      "value": 2481
     }
    },
    "3d466226ec824f55940e30d6dec9351a": {
     "model_module": "@jupyter-widgets/base",
     "model_name": "LayoutModel",
     "state": {
      "_model_module": "@jupyter-widgets/base",
      "_model_module_version": "1.2.0",
      "_model_name": "LayoutModel",
      "_view_count": null,
      "_view_module": "@jupyter-widgets/base",
      "_view_module_version": "1.2.0",
      "_view_name": "LayoutView",
      "align_content": null,
      "align_items": null,
      "align_self": null,
      "border": null,
      "bottom": null,
      "display": null,
      "flex": null,
      "flex_flow": null,
      "grid_area": null,
      "grid_auto_columns": null,
      "grid_auto_flow": null,
      "grid_auto_rows": null,
      "grid_column": null,
      "grid_gap": null,
      "grid_row": null,
      "grid_template_areas": null,
      "grid_template_columns": null,
      "grid_template_rows": null,
      "height": null,
      "justify_content": null,
      "justify_items": null,
      "left": null,
      "margin": null,
      "max_height": null,
      "max_width": null,
      "min_height": null,
      "min_width": null,
      "object_fit": null,
      "object_position": null,
      "order": null,
      "overflow": null,
      "overflow_x": null,
      "overflow_y": null,
      "padding": null,
      "right": null,
      "top": null,
      "visibility": null,
      "width": null
     }
    },
    "496af8b9431a40ce889b0c89c6863d87": {
     "model_module": "@jupyter-widgets/controls",
     "model_name": "IntProgressModel",
     "state": {
      "_dom_classes": [],
      "_model_module": "@jupyter-widgets/controls",
      "_model_module_version": "1.5.0",
      "_model_name": "IntProgressModel",
      "_view_count": null,
      "_view_module": "@jupyter-widgets/controls",
      "_view_module_version": "1.5.0",
      "_view_name": "ProgressView",
      "bar_style": "success",
      "description": "epoch 0",
      "description_tooltip": null,
      "layout": "IPY_MODEL_d425a63dca08409d8d91dc2fc28d7bcd",
      "max": 2481,
      "min": 0,
      "orientation": "horizontal",
      "style": "IPY_MODEL_d73cd974ae1b4fd9996e28539d5e311a",
      "value": 2481
     }
    },
    "4c09c878f96e42509d9b658e31a14d05": {
     "model_module": "@jupyter-widgets/controls",
     "model_name": "HBoxModel",
     "state": {
      "_dom_classes": [],
      "_model_module": "@jupyter-widgets/controls",
      "_model_module_version": "1.5.0",
      "_model_name": "HBoxModel",
      "_view_count": null,
      "_view_module": "@jupyter-widgets/controls",
      "_view_module_version": "1.5.0",
      "_view_name": "HBoxView",
      "box_style": "",
      "children": [
       "IPY_MODEL_496af8b9431a40ce889b0c89c6863d87",
       "IPY_MODEL_8524dc27627d468b9cce63156bf53e79"
      ],
      "layout": "IPY_MODEL_1e8cceab048542e1bdaa5f74c80da7f1"
     }
    },
    "73c1c00477aa496a862246145cfe1bb6": {
     "model_module": "@jupyter-widgets/controls",
     "model_name": "DescriptionStyleModel",
     "state": {
      "_model_module": "@jupyter-widgets/controls",
      "_model_module_version": "1.5.0",
      "_model_name": "DescriptionStyleModel",
      "_view_count": null,
      "_view_module": "@jupyter-widgets/base",
      "_view_module_version": "1.2.0",
      "_view_name": "StyleView",
      "description_width": ""
     }
    },
    "74acadef43704f1da754078cf69bde13": {
     "model_module": "@jupyter-widgets/base",
     "model_name": "LayoutModel",
     "state": {
      "_model_module": "@jupyter-widgets/base",
      "_model_module_version": "1.2.0",
      "_model_name": "LayoutModel",
      "_view_count": null,
      "_view_module": "@jupyter-widgets/base",
      "_view_module_version": "1.2.0",
      "_view_name": "LayoutView",
      "align_content": null,
      "align_items": null,
      "align_self": null,
      "border": null,
      "bottom": null,
      "display": null,
      "flex": null,
      "flex_flow": null,
      "grid_area": null,
      "grid_auto_columns": null,
      "grid_auto_flow": null,
      "grid_auto_rows": null,
      "grid_column": null,
      "grid_gap": null,
      "grid_row": null,
      "grid_template_areas": null,
      "grid_template_columns": null,
      "grid_template_rows": null,
      "height": null,
      "justify_content": null,
      "justify_items": null,
      "left": null,
      "margin": null,
      "max_height": null,
      "max_width": null,
      "min_height": null,
      "min_width": null,
      "object_fit": null,
      "object_position": null,
      "order": null,
      "overflow": null,
      "overflow_x": null,
      "overflow_y": null,
      "padding": null,
      "right": null,
      "top": null,
      "visibility": null,
      "width": null
     }
    },
    "8524dc27627d468b9cce63156bf53e79": {
     "model_module": "@jupyter-widgets/controls",
     "model_name": "HTMLModel",
     "state": {
      "_dom_classes": [],
      "_model_module": "@jupyter-widgets/controls",
      "_model_module_version": "1.5.0",
      "_model_name": "HTMLModel",
      "_view_count": null,
      "_view_module": "@jupyter-widgets/controls",
      "_view_module_version": "1.5.0",
      "_view_name": "HTMLView",
      "description": "",
      "description_tooltip": null,
      "layout": "IPY_MODEL_c6a2c415bc934b65b6a32d0ce9a89429",
      "placeholder": "​",
      "style": "IPY_MODEL_dab5e779393141519071e82e9406be79",
      "value": "100% 2481/2481 [01:10&lt;00:00, 34.78it/s, loss=5.64276]"
     }
    },
    "96d1c03b27ee4fb29d7fab5104fd75d2": {
     "model_module": "@jupyter-widgets/controls",
     "model_name": "IntProgressModel",
     "state": {
      "_dom_classes": [],
      "_model_module": "@jupyter-widgets/controls",
      "_model_module_version": "1.5.0",
      "_model_name": "IntProgressModel",
      "_view_count": null,
      "_view_module": "@jupyter-widgets/controls",
      "_view_module_version": "1.5.0",
      "_view_name": "ProgressView",
      "bar_style": "success",
      "description": "epoch 2",
      "description_tooltip": null,
      "layout": "IPY_MODEL_74acadef43704f1da754078cf69bde13",
      "max": 2481,
      "min": 0,
      "orientation": "horizontal",
      "style": "IPY_MODEL_bf4867cd89cf4b68895d294e0dc36459",
      "value": 2481
     }
    },
    "9f95b112889f48e49f3fa060d8c7295d": {
     "model_module": "@jupyter-widgets/base",
     "model_name": "LayoutModel",
     "state": {
      "_model_module": "@jupyter-widgets/base",
      "_model_module_version": "1.2.0",
      "_model_name": "LayoutModel",
      "_view_count": null,
      "_view_module": "@jupyter-widgets/base",
      "_view_module_version": "1.2.0",
      "_view_name": "LayoutView",
      "align_content": null,
      "align_items": null,
      "align_self": null,
      "border": null,
      "bottom": null,
      "display": null,
      "flex": null,
      "flex_flow": null,
      "grid_area": null,
      "grid_auto_columns": null,
      "grid_auto_flow": null,
      "grid_auto_rows": null,
      "grid_column": null,
      "grid_gap": null,
      "grid_row": null,
      "grid_template_areas": null,
      "grid_template_columns": null,
      "grid_template_rows": null,
      "height": null,
      "justify_content": null,
      "justify_items": null,
      "left": null,
      "margin": null,
      "max_height": null,
      "max_width": null,
      "min_height": null,
      "min_width": null,
      "object_fit": null,
      "object_position": null,
      "order": null,
      "overflow": null,
      "overflow_x": null,
      "overflow_y": null,
      "padding": null,
      "right": null,
      "top": null,
      "visibility": null,
      "width": null
     }
    },
    "a24e5b5543da4ce896bb2c8abdaec916": {
     "model_module": "@jupyter-widgets/controls",
     "model_name": "HTMLModel",
     "state": {
      "_dom_classes": [],
      "_model_module": "@jupyter-widgets/controls",
      "_model_module_version": "1.5.0",
      "_model_name": "HTMLModel",
      "_view_count": null,
      "_view_module": "@jupyter-widgets/controls",
      "_view_module_version": "1.5.0",
      "_view_name": "HTMLView",
      "description": "",
      "description_tooltip": null,
      "layout": "IPY_MODEL_c92f158bf6ea41f2bee2b2ca0f0ae7a5",
      "placeholder": "​",
      "style": "IPY_MODEL_09dc7219746e4764bbaa97bf4e3f232d",
      "value": "100% 2481/2481 [01:10&lt;00:00, 35.00it/s, loss=4.85969]"
     }
    },
    "bf4867cd89cf4b68895d294e0dc36459": {
     "model_module": "@jupyter-widgets/controls",
     "model_name": "ProgressStyleModel",
     "state": {
      "_model_module": "@jupyter-widgets/controls",
      "_model_module_version": "1.5.0",
      "_model_name": "ProgressStyleModel",
      "_view_count": null,
      "_view_module": "@jupyter-widgets/base",
      "_view_module_version": "1.2.0",
      "_view_name": "StyleView",
      "bar_color": null,
      "description_width": "initial"
     }
    },
    "c6a2c415bc934b65b6a32d0ce9a89429": {
     "model_module": "@jupyter-widgets/base",
     "model_name": "LayoutModel",
     "state": {
      "_model_module": "@jupyter-widgets/base",
      "_model_module_version": "1.2.0",
      "_model_name": "LayoutModel",
      "_view_count": null,
      "_view_module": "@jupyter-widgets/base",
      "_view_module_version": "1.2.0",
      "_view_name": "LayoutView",
      "align_content": null,
      "align_items": null,
      "align_self": null,
      "border": null,
      "bottom": null,
      "display": null,
      "flex": null,
      "flex_flow": null,
      "grid_area": null,
      "grid_auto_columns": null,
      "grid_auto_flow": null,
      "grid_auto_rows": null,
      "grid_column": null,
      "grid_gap": null,
      "grid_row": null,
      "grid_template_areas": null,
      "grid_template_columns": null,
      "grid_template_rows": null,
      "height": null,
      "justify_content": null,
      "justify_items": null,
      "left": null,
      "margin": null,
      "max_height": null,
      "max_width": null,
      "min_height": null,
      "min_width": null,
      "object_fit": null,
      "object_position": null,
      "order": null,
      "overflow": null,
      "overflow_x": null,
      "overflow_y": null,
      "padding": null,
      "right": null,
      "top": null,
      "visibility": null,
      "width": null
     }
    },
    "c92f158bf6ea41f2bee2b2ca0f0ae7a5": {
     "model_module": "@jupyter-widgets/base",
     "model_name": "LayoutModel",
     "state": {
      "_model_module": "@jupyter-widgets/base",
      "_model_module_version": "1.2.0",
      "_model_name": "LayoutModel",
      "_view_count": null,
      "_view_module": "@jupyter-widgets/base",
      "_view_module_version": "1.2.0",
      "_view_name": "LayoutView",
      "align_content": null,
      "align_items": null,
      "align_self": null,
      "border": null,
      "bottom": null,
      "display": null,
      "flex": null,
      "flex_flow": null,
      "grid_area": null,
      "grid_auto_columns": null,
      "grid_auto_flow": null,
      "grid_auto_rows": null,
      "grid_column": null,
      "grid_gap": null,
      "grid_row": null,
      "grid_template_areas": null,
      "grid_template_columns": null,
      "grid_template_rows": null,
      "height": null,
      "justify_content": null,
      "justify_items": null,
      "left": null,
      "margin": null,
      "max_height": null,
      "max_width": null,
      "min_height": null,
      "min_width": null,
      "object_fit": null,
      "object_position": null,
      "order": null,
      "overflow": null,
      "overflow_x": null,
      "overflow_y": null,
      "padding": null,
      "right": null,
      "top": null,
      "visibility": null,
      "width": null
     }
    },
    "d425a63dca08409d8d91dc2fc28d7bcd": {
     "model_module": "@jupyter-widgets/base",
     "model_name": "LayoutModel",
     "state": {
      "_model_module": "@jupyter-widgets/base",
      "_model_module_version": "1.2.0",
      "_model_name": "LayoutModel",
      "_view_count": null,
      "_view_module": "@jupyter-widgets/base",
      "_view_module_version": "1.2.0",
      "_view_name": "LayoutView",
      "align_content": null,
      "align_items": null,
      "align_self": null,
      "border": null,
      "bottom": null,
      "display": null,
      "flex": null,
      "flex_flow": null,
      "grid_area": null,
      "grid_auto_columns": null,
      "grid_auto_flow": null,
      "grid_auto_rows": null,
      "grid_column": null,
      "grid_gap": null,
      "grid_row": null,
      "grid_template_areas": null,
      "grid_template_columns": null,
      "grid_template_rows": null,
      "height": null,
      "justify_content": null,
      "justify_items": null,
      "left": null,
      "margin": null,
      "max_height": null,
      "max_width": null,
      "min_height": null,
      "min_width": null,
      "object_fit": null,
      "object_position": null,
      "order": null,
      "overflow": null,
      "overflow_x": null,
      "overflow_y": null,
      "padding": null,
      "right": null,
      "top": null,
      "visibility": null,
      "width": null
     }
    },
    "d73cd974ae1b4fd9996e28539d5e311a": {
     "model_module": "@jupyter-widgets/controls",
     "model_name": "ProgressStyleModel",
     "state": {
      "_model_module": "@jupyter-widgets/controls",
      "_model_module_version": "1.5.0",
      "_model_name": "ProgressStyleModel",
      "_view_count": null,
      "_view_module": "@jupyter-widgets/base",
      "_view_module_version": "1.2.0",
      "_view_name": "StyleView",
      "bar_color": null,
      "description_width": "initial"
     }
    },
    "dab5e779393141519071e82e9406be79": {
     "model_module": "@jupyter-widgets/controls",
     "model_name": "DescriptionStyleModel",
     "state": {
      "_model_module": "@jupyter-widgets/controls",
      "_model_module_version": "1.5.0",
      "_model_name": "DescriptionStyleModel",
      "_view_count": null,
      "_view_module": "@jupyter-widgets/base",
      "_view_module_version": "1.2.0",
      "_view_name": "StyleView",
      "description_width": ""
     }
    },
    "f20e8054c96b422692c688597d16b6ef": {
     "model_module": "@jupyter-widgets/controls",
     "model_name": "HTMLModel",
     "state": {
      "_dom_classes": [],
      "_model_module": "@jupyter-widgets/controls",
      "_model_module_version": "1.5.0",
      "_model_name": "HTMLModel",
      "_view_count": null,
      "_view_module": "@jupyter-widgets/controls",
      "_view_module_version": "1.5.0",
      "_view_name": "HTMLView",
      "description": "",
      "description_tooltip": null,
      "layout": "IPY_MODEL_17f94b44a2c44dc89cc0595f3f68bac9",
      "placeholder": "​",
      "style": "IPY_MODEL_73c1c00477aa496a862246145cfe1bb6",
      "value": "100% 2481/2481 [01:10&lt;00:00, 35.55it/s, loss=5.09836]"
     }
    },
    "f2820adcad76413f91c5d8957beb213d": {
     "model_module": "@jupyter-widgets/controls",
     "model_name": "ProgressStyleModel",
     "state": {
      "_model_module": "@jupyter-widgets/controls",
      "_model_module_version": "1.5.0",
      "_model_name": "ProgressStyleModel",
      "_view_count": null,
      "_view_module": "@jupyter-widgets/base",
      "_view_module_version": "1.2.0",
      "_view_name": "StyleView",
      "bar_color": null,
      "description_width": "initial"
     }
    },
    "f941d5cbba8f48bfa168f2ff834afdb1": {
     "model_module": "@jupyter-widgets/base",
     "model_name": "LayoutModel",
     "state": {
      "_model_module": "@jupyter-widgets/base",
      "_model_module_version": "1.2.0",
      "_model_name": "LayoutModel",
      "_view_count": null,
      "_view_module": "@jupyter-widgets/base",
      "_view_module_version": "1.2.0",
      "_view_name": "LayoutView",
      "align_content": null,
      "align_items": null,
      "align_self": null,
      "border": null,
      "bottom": null,
      "display": null,
      "flex": null,
      "flex_flow": null,
      "grid_area": null,
      "grid_auto_columns": null,
      "grid_auto_flow": null,
      "grid_auto_rows": null,
      "grid_column": null,
      "grid_gap": null,
      "grid_row": null,
      "grid_template_areas": null,
      "grid_template_columns": null,
      "grid_template_rows": null,
      "height": null,
      "justify_content": null,
      "justify_items": null,
      "left": null,
      "margin": null,
      "max_height": null,
      "max_width": null,
      "min_height": null,
      "min_width": null,
      "object_fit": null,
      "object_position": null,
      "order": null,
      "overflow": null,
      "overflow_x": null,
      "overflow_y": null,
      "padding": null,
      "right": null,
      "top": null,
      "visibility": null,
      "width": null
     }
    }
   }
  }
 },
 "nbformat": 4,
 "nbformat_minor": 1
}
