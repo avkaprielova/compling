{
  "nbformat": 4,
  "nbformat_minor": 0,
  "metadata": {
    "colab": {
      "name": "Final_Exam.ipynb",
      "provenance": [],
      "collapsed_sections": []
    },
    "kernelspec": {
      "name": "python3",
      "display_name": "Python 3"
    }
  },
  "cells": [
    {
      "cell_type": "markdown",
      "metadata": {
        "id": "Y3_G7hIoySRy",
        "colab_type": "text"
      },
      "source": [
        "# Exam"
      ]
    },
    {
      "cell_type": "markdown",
      "metadata": {
        "id": "qmuCD-OTyUje",
        "colab_type": "text"
      },
      "source": [
        "## Part 1: Question"
      ]
    },
    {
      "cell_type": "markdown",
      "metadata": {
        "id": "-5gKwxBNybtB",
        "colab_type": "text"
      },
      "source": [
        "Compare BERT and GPT-2: high-level description "
      ]
    },
    {
      "cell_type": "markdown",
      "metadata": {
        "id": "ZvB9ue-8yegB",
        "colab_type": "text"
      },
      "source": [
        "BERT uses self-attention and encoder blocks, while GPT-2 uses masked self-attention to prevent the information leak from the future tokens and decoder blocks in auto-regresssive fashion to output one token at a time."
      ]
    },
    {
      "cell_type": "markdown",
      "metadata": {
        "id": "Hf6ZemljyYqX",
        "colab_type": "text"
      },
      "source": [
        "## Part 2: Coding"
      ]
    },
    {
      "cell_type": "markdown",
      "metadata": {
        "id": "gNEayKH2xY3E",
        "colab_type": "text"
      },
      "source": [
        "Develop a model for predicting review rating.\n",
        "\n",
        "**Multiclass classification into 5 classes**\n",
        "\n",
        "Score: **F1 with macro averaging**\n",
        "\n",
        "You are forbidden to use test dataset for any kind of training.\n",
        "\n",
        "Remember proper training pipeline.\n",
        "\n",
        "If you are not using default params in the models, you have to use some \n",
        "validation scheme to justify them.\n",
        "\n",
        "Use random_state or seed params - your experiment must be reprodusible.\n",
        "\n",
        "**1 baseline = 0.51**\n",
        "\n",
        "**2 baseline = 0.53**"
      ]
    },
    {
      "cell_type": "code",
      "metadata": {
        "id": "naBkv83JxTyj",
        "colab_type": "code",
        "colab": {}
      },
      "source": [
        "import pandas as pd\n",
        "import numpy as np\n",
        "import sklearn\n",
        "import spacy\n",
        "\n",
        "SEED=1337\n",
        "np.random.seed(SEED)"
      ],
      "execution_count": 0,
      "outputs": []
    },
    {
      "cell_type": "code",
      "metadata": {
        "id": "me1mssA10pwV",
        "colab_type": "code",
        "outputId": "b16877eb-c163-4f9d-86b7-c2192e3ed50a",
        "colab": {
          "base_uri": "https://localhost:8080/",
          "height": 70
        }
      },
      "source": [
        "!unzip exam_data.zip"
      ],
      "execution_count": 0,
      "outputs": [
        {
          "output_type": "stream",
          "text": [
            "Archive:  exam_data.zip\n",
            "replace test.csv? [y]es, [n]o, [A]ll, [N]one, [r]ename: n\n",
            "replace train.csv? [y]es, [n]o, [A]ll, [N]one, [r]ename: n\n"
          ],
          "name": "stdout"
        }
      ]
    },
    {
      "cell_type": "code",
      "metadata": {
        "id": "YQFlRiwvxiK6",
        "colab_type": "code",
        "outputId": "6ce6652f-0ce3-4f5c-ceb0-c8bb685e4d6a",
        "colab": {
          "base_uri": "https://localhost:8080/",
          "height": 34
        }
      },
      "source": [
        "df_train = pd.read_csv('train.csv')\n",
        "df_test = pd.read_csv('test.csv')\n",
        "df_train.shape"
      ],
      "execution_count": 2,
      "outputs": [
        {
          "output_type": "execute_result",
          "data": {
            "text/plain": [
              "(48192, 3)"
            ]
          },
          "metadata": {
            "tags": []
          },
          "execution_count": 2
        }
      ]
    },
    {
      "cell_type": "code",
      "metadata": {
        "id": "wOygcrdm02jN",
        "colab_type": "code",
        "outputId": "2693ca01-c8c6-48c5-dd72-144b8ce14cfe",
        "colab": {
          "base_uri": "https://localhost:8080/",
          "height": 203
        }
      },
      "source": [
        "df_train.head()"
      ],
      "execution_count": 3,
      "outputs": [
        {
          "output_type": "execute_result",
          "data": {
            "text/html": [
              "<div>\n",
              "<style scoped>\n",
              "    .dataframe tbody tr th:only-of-type {\n",
              "        vertical-align: middle;\n",
              "    }\n",
              "\n",
              "    .dataframe tbody tr th {\n",
              "        vertical-align: top;\n",
              "    }\n",
              "\n",
              "    .dataframe thead th {\n",
              "        text-align: right;\n",
              "    }\n",
              "</style>\n",
              "<table border=\"1\" class=\"dataframe\">\n",
              "  <thead>\n",
              "    <tr style=\"text-align: right;\">\n",
              "      <th></th>\n",
              "      <th>review</th>\n",
              "      <th>title</th>\n",
              "      <th>target</th>\n",
              "    </tr>\n",
              "  </thead>\n",
              "  <tbody>\n",
              "    <tr>\n",
              "      <th>0</th>\n",
              "      <td>The staff was very friendly, the breakfast ver...</td>\n",
              "      <td>Walker Gem</td>\n",
              "      <td>5</td>\n",
              "    </tr>\n",
              "    <tr>\n",
              "      <th>1</th>\n",
              "      <td>Excellent service - very approachable and prof...</td>\n",
              "      <td>Excellent Service</td>\n",
              "      <td>4</td>\n",
              "    </tr>\n",
              "    <tr>\n",
              "      <th>2</th>\n",
              "      <td>Really a top notch place to spend a day at the...</td>\n",
              "      <td>Good location, warm and friendly staff</td>\n",
              "      <td>5</td>\n",
              "    </tr>\n",
              "    <tr>\n",
              "      <th>3</th>\n",
              "      <td>a little noisy, there was a false fire alarm a...</td>\n",
              "      <td>nice hotel,</td>\n",
              "      <td>4</td>\n",
              "    </tr>\n",
              "    <tr>\n",
              "      <th>4</th>\n",
              "      <td>Place had too many animals and I'm allergic to...</td>\n",
              "      <td>Experience</td>\n",
              "      <td>3</td>\n",
              "    </tr>\n",
              "  </tbody>\n",
              "</table>\n",
              "</div>"
            ],
            "text/plain": [
              "                                              review  ... target\n",
              "0  The staff was very friendly, the breakfast ver...  ...      5\n",
              "1  Excellent service - very approachable and prof...  ...      4\n",
              "2  Really a top notch place to spend a day at the...  ...      5\n",
              "3  a little noisy, there was a false fire alarm a...  ...      4\n",
              "4  Place had too many animals and I'm allergic to...  ...      3\n",
              "\n",
              "[5 rows x 3 columns]"
            ]
          },
          "metadata": {
            "tags": []
          },
          "execution_count": 3
        }
      ]
    },
    {
      "cell_type": "code",
      "metadata": {
        "id": "I1cNtvVL1BPy",
        "colab_type": "code",
        "colab": {}
      },
      "source": [
        "from sklearn.linear_model import LogisticRegression\n",
        "from sklearn.svm import SVC\n",
        "from sklearn.ensemble import RandomForestClassifier\n",
        "from sklearn.tree import DecisionTreeClassifier\n",
        "from sklearn.feature_extraction.text import TfidfVectorizer\n",
        "from sklearn.model_selection import train_test_split, cross_validate, StratifiedKFold\n",
        "import numpy as np\n",
        "from collections import Counter\n",
        "from sklearn.model_selection import RandomizedSearchCV\n",
        "from scipy.stats import uniform"
      ],
      "execution_count": 0,
      "outputs": []
    },
    {
      "cell_type": "code",
      "metadata": {
        "id": "n3FXd-h81Ff9",
        "colab_type": "code",
        "colab": {}
      },
      "source": [
        "vectorizer = TfidfVectorizer()\n",
        "df_train['text'] = df_train.title + '. ' + df_train.review\n",
        "X_tv = vectorizer.fit_transform(df_train.text)\n",
        "df_test['text'] = df_test.title + '. ' + df_test.review\n",
        "X_test = vectorizer.transform(df_test.text)"
      ],
      "execution_count": 0,
      "outputs": []
    },
    {
      "cell_type": "code",
      "metadata": {
        "id": "eStHs47K1fBq",
        "colab_type": "code",
        "colab": {}
      },
      "source": [
        "y_tv = df_train.target\n",
        "y_test = df_test.target\n",
        "X_train, X_val, y_train, y_val = train_test_split(X_tv, y_tv, test_size=0.2, random_state=SEED)"
      ],
      "execution_count": 0,
      "outputs": []
    },
    {
      "cell_type": "code",
      "metadata": {
        "id": "DCLyUaSu2L7z",
        "colab_type": "code",
        "outputId": "8b06e979-354b-4f2d-9a49-54f4c5e60974",
        "colab": {
          "base_uri": "https://localhost:8080/",
          "height": 34
        }
      },
      "source": [
        "X_train.shape, X_val.shape"
      ],
      "execution_count": 7,
      "outputs": [
        {
          "output_type": "execute_result",
          "data": {
            "text/plain": [
              "((38553, 43520), (9639, 43520))"
            ]
          },
          "metadata": {
            "tags": []
          },
          "execution_count": 7
        }
      ]
    },
    {
      "cell_type": "code",
      "metadata": {
        "id": "6v66Oq--1zNy",
        "colab_type": "code",
        "colab": {}
      },
      "source": [
        "scoring = ['f1_macro']"
      ],
      "execution_count": 0,
      "outputs": []
    },
    {
      "cell_type": "code",
      "metadata": {
        "id": "Pz1202HhBkTL",
        "colab_type": "code",
        "colab": {}
      },
      "source": [
        "skf = StratifiedKFold(5, shuffle=True, random_state=SEED)"
      ],
      "execution_count": 0,
      "outputs": []
    },
    {
      "cell_type": "markdown",
      "metadata": {
        "id": "a-q1-E-C3dzz",
        "colab_type": "text"
      },
      "source": [
        "### Logistic regression"
      ]
    },
    {
      "cell_type": "code",
      "metadata": {
        "id": "UzEIJB4P1TNK",
        "colab_type": "code",
        "colab": {}
      },
      "source": [
        "clf = LogisticRegression(random_state=SEED)"
      ],
      "execution_count": 0,
      "outputs": []
    },
    {
      "cell_type": "code",
      "metadata": {
        "id": "O-Cc_fg81lzr",
        "colab_type": "code",
        "outputId": "f158cf50-3695-40fd-dba4-a9e8aad43c3d",
        "colab": {
          "base_uri": "https://localhost:8080/",
          "height": 707
        }
      },
      "source": [
        "scores = cross_validate(clf, X_train, y_train, cv=skf, scoring=scoring)"
      ],
      "execution_count": 11,
      "outputs": [
        {
          "output_type": "stream",
          "text": [
            "/usr/local/lib/python3.6/dist-packages/sklearn/linear_model/_logistic.py:940: ConvergenceWarning: lbfgs failed to converge (status=1):\n",
            "STOP: TOTAL NO. of ITERATIONS REACHED LIMIT.\n",
            "\n",
            "Increase the number of iterations (max_iter) or scale the data as shown in:\n",
            "    https://scikit-learn.org/stable/modules/preprocessing.html\n",
            "Please also refer to the documentation for alternative solver options:\n",
            "    https://scikit-learn.org/stable/modules/linear_model.html#logistic-regression\n",
            "  extra_warning_msg=_LOGISTIC_SOLVER_CONVERGENCE_MSG)\n",
            "/usr/local/lib/python3.6/dist-packages/sklearn/linear_model/_logistic.py:940: ConvergenceWarning: lbfgs failed to converge (status=1):\n",
            "STOP: TOTAL NO. of ITERATIONS REACHED LIMIT.\n",
            "\n",
            "Increase the number of iterations (max_iter) or scale the data as shown in:\n",
            "    https://scikit-learn.org/stable/modules/preprocessing.html\n",
            "Please also refer to the documentation for alternative solver options:\n",
            "    https://scikit-learn.org/stable/modules/linear_model.html#logistic-regression\n",
            "  extra_warning_msg=_LOGISTIC_SOLVER_CONVERGENCE_MSG)\n",
            "/usr/local/lib/python3.6/dist-packages/sklearn/linear_model/_logistic.py:940: ConvergenceWarning: lbfgs failed to converge (status=1):\n",
            "STOP: TOTAL NO. of ITERATIONS REACHED LIMIT.\n",
            "\n",
            "Increase the number of iterations (max_iter) or scale the data as shown in:\n",
            "    https://scikit-learn.org/stable/modules/preprocessing.html\n",
            "Please also refer to the documentation for alternative solver options:\n",
            "    https://scikit-learn.org/stable/modules/linear_model.html#logistic-regression\n",
            "  extra_warning_msg=_LOGISTIC_SOLVER_CONVERGENCE_MSG)\n",
            "/usr/local/lib/python3.6/dist-packages/sklearn/linear_model/_logistic.py:940: ConvergenceWarning: lbfgs failed to converge (status=1):\n",
            "STOP: TOTAL NO. of ITERATIONS REACHED LIMIT.\n",
            "\n",
            "Increase the number of iterations (max_iter) or scale the data as shown in:\n",
            "    https://scikit-learn.org/stable/modules/preprocessing.html\n",
            "Please also refer to the documentation for alternative solver options:\n",
            "    https://scikit-learn.org/stable/modules/linear_model.html#logistic-regression\n",
            "  extra_warning_msg=_LOGISTIC_SOLVER_CONVERGENCE_MSG)\n",
            "/usr/local/lib/python3.6/dist-packages/sklearn/linear_model/_logistic.py:940: ConvergenceWarning: lbfgs failed to converge (status=1):\n",
            "STOP: TOTAL NO. of ITERATIONS REACHED LIMIT.\n",
            "\n",
            "Increase the number of iterations (max_iter) or scale the data as shown in:\n",
            "    https://scikit-learn.org/stable/modules/preprocessing.html\n",
            "Please also refer to the documentation for alternative solver options:\n",
            "    https://scikit-learn.org/stable/modules/linear_model.html#logistic-regression\n",
            "  extra_warning_msg=_LOGISTIC_SOLVER_CONVERGENCE_MSG)\n"
          ],
          "name": "stderr"
        }
      ]
    },
    {
      "cell_type": "code",
      "metadata": {
        "id": "Esw7Cfxg7dIM",
        "colab_type": "code",
        "outputId": "3ae075df-c267-4661-910c-1304df169004",
        "colab": {
          "base_uri": "https://localhost:8080/",
          "height": 34
        }
      },
      "source": [
        "print(np.mean(scores['test_f1_macro']))"
      ],
      "execution_count": 12,
      "outputs": [
        {
          "output_type": "stream",
          "text": [
            "0.5150838198247045\n"
          ],
          "name": "stdout"
        }
      ]
    },
    {
      "cell_type": "code",
      "metadata": {
        "id": "ov9QNdGN38Xz",
        "colab_type": "code",
        "outputId": "4f57f08e-f0b5-4511-b416-765a3dcf8d54",
        "colab": {
          "base_uri": "https://localhost:8080/",
          "height": 244
        }
      },
      "source": [
        "clf = LogisticRegression(solver='saga', random_state=SEED)\n",
        "param_dist = dict(C=uniform(loc=0, scale=4), penalty=['l2', 'l1'])\n",
        "tuned_clf = RandomizedSearchCV(clf, param_dist, random_state=SEED, scoring=scoring, refit=scoring[0], cv=skf)\n",
        "search = tuned_clf.fit(X_train, y_train)\n",
        "clf = search.best_estimator_\n",
        "pred = clf.predict(X_val)\n",
        "print(Counter(pred))\n",
        "sklearn.metrics.f1_score(y_val, pred, average='macro')"
      ],
      "execution_count": 13,
      "outputs": [
        {
          "output_type": "stream",
          "text": [
            "/usr/local/lib/python3.6/dist-packages/sklearn/linear_model/_sag.py:330: ConvergenceWarning: The max_iter was reached which means the coef_ did not converge\n",
            "  \"the coef_ did not converge\", ConvergenceWarning)\n",
            "/usr/local/lib/python3.6/dist-packages/sklearn/linear_model/_sag.py:330: ConvergenceWarning: The max_iter was reached which means the coef_ did not converge\n",
            "  \"the coef_ did not converge\", ConvergenceWarning)\n",
            "/usr/local/lib/python3.6/dist-packages/sklearn/linear_model/_sag.py:330: ConvergenceWarning: The max_iter was reached which means the coef_ did not converge\n",
            "  \"the coef_ did not converge\", ConvergenceWarning)\n",
            "/usr/local/lib/python3.6/dist-packages/sklearn/linear_model/_sag.py:330: ConvergenceWarning: The max_iter was reached which means the coef_ did not converge\n",
            "  \"the coef_ did not converge\", ConvergenceWarning)\n",
            "/usr/local/lib/python3.6/dist-packages/sklearn/linear_model/_sag.py:330: ConvergenceWarning: The max_iter was reached which means the coef_ did not converge\n",
            "  \"the coef_ did not converge\", ConvergenceWarning)\n"
          ],
          "name": "stderr"
        },
        {
          "output_type": "stream",
          "text": [
            "Counter({5: 4520, 4: 2662, 3: 1277, 1: 743, 2: 437})\n"
          ],
          "name": "stdout"
        },
        {
          "output_type": "execute_result",
          "data": {
            "text/plain": [
              "0.5329280881531459"
            ]
          },
          "metadata": {
            "tags": []
          },
          "execution_count": 13
        }
      ]
    },
    {
      "cell_type": "code",
      "metadata": {
        "id": "mI6qt-9C2xiC",
        "colab_type": "code",
        "outputId": "33f90a8d-eb37-4bba-a703-115f0cadd0dc",
        "colab": {
          "base_uri": "https://localhost:8080/",
          "height": 51
        }
      },
      "source": [
        "pred = clf.predict(X_val)\n",
        "print(Counter(pred))\n",
        "sklearn.metrics.f1_score(y_val, pred, average='macro')"
      ],
      "execution_count": 14,
      "outputs": [
        {
          "output_type": "stream",
          "text": [
            "Counter({5: 4520, 4: 2662, 3: 1277, 1: 743, 2: 437})\n"
          ],
          "name": "stdout"
        },
        {
          "output_type": "execute_result",
          "data": {
            "text/plain": [
              "0.5329280881531459"
            ]
          },
          "metadata": {
            "tags": []
          },
          "execution_count": 14
        }
      ]
    },
    {
      "cell_type": "code",
      "metadata": {
        "id": "drs8eoH9L1At",
        "colab_type": "code",
        "colab": {
          "base_uri": "https://localhost:8080/",
          "height": 51
        },
        "outputId": "37093ebe-0c5f-48e4-ac18-020aab2fc624"
      },
      "source": [
        "pred = clf.predict(X_tv)\n",
        "print(Counter(pred))\n",
        "sklearn.metrics.f1_score(y_tv, pred, average='macro')"
      ],
      "execution_count": 15,
      "outputs": [
        {
          "output_type": "stream",
          "text": [
            "Counter({5: 22024, 4: 13426, 3: 6504, 1: 3775, 2: 2463})\n"
          ],
          "name": "stdout"
        },
        {
          "output_type": "execute_result",
          "data": {
            "text/plain": [
              "0.6605345914828209"
            ]
          },
          "metadata": {
            "tags": []
          },
          "execution_count": 15
        }
      ]
    },
    {
      "cell_type": "code",
      "metadata": {
        "id": "BE6CeeUvL0xj",
        "colab_type": "code",
        "colab": {
          "base_uri": "https://localhost:8080/",
          "height": 51
        },
        "outputId": "e0a57d79-00ee-470e-c0fe-b483f98fd1e1"
      },
      "source": [
        "pred = clf.predict(X_test)\n",
        "print(Counter(pred))\n",
        "sklearn.metrics.f1_score(y_test, pred, average='macro')"
      ],
      "execution_count": 16,
      "outputs": [
        {
          "output_type": "stream",
          "text": [
            "Counter({5: 2507, 4: 1498, 3: 677, 1: 437, 2: 236})\n"
          ],
          "name": "stdout"
        },
        {
          "output_type": "execute_result",
          "data": {
            "text/plain": [
              "0.5167442386551145"
            ]
          },
          "metadata": {
            "tags": []
          },
          "execution_count": 16
        }
      ]
    },
    {
      "cell_type": "markdown",
      "metadata": {
        "id": "5hqo2udG3gH-",
        "colab_type": "text"
      },
      "source": [
        "### RF"
      ]
    },
    {
      "cell_type": "code",
      "metadata": {
        "id": "7sjuir4h5o-l",
        "colab_type": "code",
        "outputId": "b538dea0-85d2-48a7-d618-9c6b1e9fdef6",
        "colab": {
          "base_uri": "https://localhost:8080/",
          "height": 34
        }
      },
      "source": [
        "clf = DecisionTreeClassifier(random_state=SEED)\n",
        "scores = cross_validate(clf, X_train, y_train, cv=skf, scoring=scoring)\n",
        "print(np.mean(scores['test_f1_macro']))"
      ],
      "execution_count": 10,
      "outputs": [
        {
          "output_type": "stream",
          "text": [
            "0.3657346299286789\n"
          ],
          "name": "stdout"
        }
      ]
    },
    {
      "cell_type": "code",
      "metadata": {
        "id": "0dfeaq7q5qQ8",
        "colab_type": "code",
        "outputId": "1c3d10dd-6c82-4451-d4df-0befb3ddf380",
        "colab": {
          "base_uri": "https://localhost:8080/",
          "height": 34
        }
      },
      "source": [
        "clf = RandomForestClassifier(n_estimators=50, random_state=SEED, oob_score=True)\n",
        "scores = cross_validate(clf, X_train, y_train, cv=skf, scoring=scoring)\n",
        "print(np.mean(scores['test_f1_macro']))"
      ],
      "execution_count": 11,
      "outputs": [
        {
          "output_type": "stream",
          "text": [
            "0.37905431622407487\n"
          ],
          "name": "stdout"
        }
      ]
    },
    {
      "cell_type": "code",
      "metadata": {
        "id": "-ZeN393PmvR6",
        "colab_type": "code",
        "colab": {}
      },
      "source": [
        "clf = RandomForestClassifier(n_estimators=50, random_state=SEED, oob_score=True)\n",
        "param_dist = dict(C=uniform(loc=0, scale=4), penalty=['l2', 'l1'])\n",
        "tuned_clf = RandomizedSearchCV(clf, param_dist, random_state=SEED, scoring=scoring, refit=scoring[0], cv=skf, n_jobs=-1)\n",
        "search = tuned_clf.fit(X_train, y_train)\n",
        "clf = search.best_estimator_\n",
        "pred = clf.predict(X_val)\n",
        "print(Counter(pred))\n",
        "sklearn.metrics.f1_score(y_val, pred, average='macro')"
      ],
      "execution_count": 0,
      "outputs": []
    },
    {
      "cell_type": "code",
      "metadata": {
        "id": "m4n8ZnQkYGtl",
        "colab_type": "code",
        "colab": {}
      },
      "source": [
        "pred = clf.predict(X_val)\n",
        "print(Counter(pred))\n",
        "sklearn.metrics.f1_score(y_val, pred, average='macro')"
      ],
      "execution_count": 0,
      "outputs": []
    },
    {
      "cell_type": "code",
      "metadata": {
        "id": "3iq1wYM1YJGv",
        "colab_type": "code",
        "colab": {}
      },
      "source": [
        "# pred = clf.predict(X_tv)\n",
        "# print(Counter(pred))\n",
        "# sklearn.metrics.f1_score(y_tv, pred, average='macro')"
      ],
      "execution_count": 0,
      "outputs": []
    },
    {
      "cell_type": "code",
      "metadata": {
        "id": "lUguThdEYI8H",
        "colab_type": "code",
        "colab": {}
      },
      "source": [
        "# pred = clf.predict(X_test)\n",
        "# print(Counter(pred))\n",
        "# sklearn.metrics.f1_score(y_test, pred, average='macro')"
      ],
      "execution_count": 0,
      "outputs": []
    },
    {
      "cell_type": "markdown",
      "metadata": {
        "id": "9wLaWn0S3f7q",
        "colab_type": "text"
      },
      "source": [
        "### SVM"
      ]
    },
    {
      "cell_type": "code",
      "metadata": {
        "id": "ZplEec5c3ibw",
        "colab_type": "code",
        "colab": {}
      },
      "source": [
        "clf = SVC(kernel='linear', random_state=SEED)\n",
        "scores = cross_validate(clf, X_train, y_train, cv=skf, scoring=scoring)\n",
        "print(np.mean(scores['test_f1_macro']))"
      ],
      "execution_count": 0,
      "outputs": []
    },
    {
      "cell_type": "code",
      "metadata": {
        "id": "nGo4zZfRFE8a",
        "colab_type": "code",
        "colab": {}
      },
      "source": [
        "clf = SVC(kernel='linear', random_state=SEED)\n",
        "param_dist = dict(C=uniform(loc=0, scale=4), penalty=['l2', 'l1'])\n",
        "tuned_clf = RandomizedSearchCV(clf, param_dist, random_state=SEED, scoring=scoring, refit=scoring[0], cv=skf, n_jobs=-1)\n",
        "search = tuned_clf.fit(X_train, y_train)\n",
        "clf = search.best_estimator_\n",
        "pred = clf.predict(X_val)\n",
        "print(Counter(pred))\n",
        "sklearn.metrics.f1_score(y_val, pred, average='macro')"
      ],
      "execution_count": 0,
      "outputs": []
    },
    {
      "cell_type": "code",
      "metadata": {
        "id": "kMHy1HsMNrtc",
        "colab_type": "code",
        "colab": {}
      },
      "source": [
        "pred = clf.predict(X_val)\n",
        "print(Counter(pred))\n",
        "sklearn.metrics.f1_score(y_val, pred, average='macro')"
      ],
      "execution_count": 0,
      "outputs": []
    },
    {
      "cell_type": "code",
      "metadata": {
        "id": "IusBU2gxNriF",
        "colab_type": "code",
        "colab": {}
      },
      "source": [
        "# pred = clf.predict(X_tv)\n",
        "# print(Counter(pred))\n",
        "# sklearn.metrics.f1_score(y_tv, pred, average='macro')"
      ],
      "execution_count": 0,
      "outputs": []
    },
    {
      "cell_type": "code",
      "metadata": {
        "id": "jTJw9P4lFEtg",
        "colab_type": "code",
        "colab": {}
      },
      "source": [
        "# pred = clf.predict(X_test)\n",
        "# print(Counter(pred))\n",
        "# sklearn.metrics.f1_score(y_test, pred, average='macro')"
      ],
      "execution_count": 0,
      "outputs": []
    }
  ]
}