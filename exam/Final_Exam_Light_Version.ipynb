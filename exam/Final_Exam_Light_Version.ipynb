{
  "nbformat": 4,
  "nbformat_minor": 0,
  "metadata": {
    "colab": {
      "name": "Final_Exam_Light_Version.ipynb",
      "provenance": [],
      "collapsed_sections": []
    },
    "kernelspec": {
      "name": "python3",
      "display_name": "Python 3"
    }
  },
  "cells": [
    {
      "cell_type": "markdown",
      "metadata": {
        "id": "Y3_G7hIoySRy",
        "colab_type": "text"
      },
      "source": [
        "# Exam"
      ]
    },
    {
      "cell_type": "markdown",
      "metadata": {
        "id": "qmuCD-OTyUje",
        "colab_type": "text"
      },
      "source": [
        "## Part 1: Question"
      ]
    },
    {
      "cell_type": "markdown",
      "metadata": {
        "id": "-5gKwxBNybtB",
        "colab_type": "text"
      },
      "source": [
        "Compare BERT and GPT-2: high-level description "
      ]
    },
    {
      "cell_type": "markdown",
      "metadata": {
        "id": "ZvB9ue-8yegB",
        "colab_type": "text"
      },
      "source": [
        "BERT uses self-attention and encoder blocks, while GPT-2 uses masked self-attention to prevent the information leak from the future tokens and decoder blocks in auto-regresssive fashion to output one token at a time."
      ]
    },
    {
      "cell_type": "markdown",
      "metadata": {
        "id": "Hf6ZemljyYqX",
        "colab_type": "text"
      },
      "source": [
        "## Part 2: Coding"
      ]
    },
    {
      "cell_type": "markdown",
      "metadata": {
        "id": "gNEayKH2xY3E",
        "colab_type": "text"
      },
      "source": [
        "Develop a model for predicting review rating.\n",
        "\n",
        "**Multiclass classification into 5 classes**\n",
        "\n",
        "Score: **F1 with macro averaging**\n",
        "\n",
        "You are forbidden to use test dataset for any kind of training.\n",
        "\n",
        "Remember proper training pipeline.\n",
        "\n",
        "If you are not using default params in the models, you have to use some \n",
        "validation scheme to justify them.\n",
        "\n",
        "Use random_state or seed params - your experiment must be reprodusible.\n",
        "\n",
        "**1 baseline = 0.51**\n",
        "\n",
        "**2 baseline = 0.53**"
      ]
    },
    {
      "cell_type": "code",
      "metadata": {
        "id": "naBkv83JxTyj",
        "colab_type": "code",
        "colab": {}
      },
      "source": [
        "import pandas as pd\n",
        "import numpy as np\n",
        "import sklearn\n",
        "import spacy\n",
        "\n",
        "SEED=1337\n",
        "np.random.seed(SEED)"
      ],
      "execution_count": 0,
      "outputs": []
    },
    {
      "cell_type": "code",
      "metadata": {
        "id": "me1mssA10pwV",
        "colab_type": "code",
        "outputId": "b9564fa0-c8f3-4b92-a6cf-f5fb0c567f50",
        "colab": {
          "base_uri": "https://localhost:8080/",
          "height": 68
        }
      },
      "source": [
        "!unzip exam_data.zip"
      ],
      "execution_count": 2,
      "outputs": [
        {
          "output_type": "stream",
          "text": [
            "Archive:  exam_data.zip\n",
            "  inflating: test.csv                \n",
            "  inflating: train.csv               \n"
          ],
          "name": "stdout"
        }
      ]
    },
    {
      "cell_type": "code",
      "metadata": {
        "id": "YQFlRiwvxiK6",
        "colab_type": "code",
        "outputId": "b3611fd3-80e7-4f1d-ee02-f0851968a831",
        "colab": {
          "base_uri": "https://localhost:8080/",
          "height": 34
        }
      },
      "source": [
        "df_train = pd.read_csv('train.csv')\n",
        "df_test = pd.read_csv('test.csv')\n",
        "df_train.shape"
      ],
      "execution_count": 2,
      "outputs": [
        {
          "output_type": "execute_result",
          "data": {
            "text/plain": [
              "(48192, 3)"
            ]
          },
          "metadata": {
            "tags": []
          },
          "execution_count": 2
        }
      ]
    },
    {
      "cell_type": "code",
      "metadata": {
        "id": "wOygcrdm02jN",
        "colab_type": "code",
        "outputId": "da2ccf71-f059-42e1-f49c-635a6e9b74c8",
        "colab": {
          "base_uri": "https://localhost:8080/",
          "height": 255
        }
      },
      "source": [
        "df_train.head()"
      ],
      "execution_count": 3,
      "outputs": [
        {
          "output_type": "execute_result",
          "data": {
            "text/html": [
              "<div>\n",
              "<style scoped>\n",
              "    .dataframe tbody tr th:only-of-type {\n",
              "        vertical-align: middle;\n",
              "    }\n",
              "\n",
              "    .dataframe tbody tr th {\n",
              "        vertical-align: top;\n",
              "    }\n",
              "\n",
              "    .dataframe thead th {\n",
              "        text-align: right;\n",
              "    }\n",
              "</style>\n",
              "<table border=\"1\" class=\"dataframe\">\n",
              "  <thead>\n",
              "    <tr style=\"text-align: right;\">\n",
              "      <th></th>\n",
              "      <th>review</th>\n",
              "      <th>title</th>\n",
              "      <th>target</th>\n",
              "    </tr>\n",
              "  </thead>\n",
              "  <tbody>\n",
              "    <tr>\n",
              "      <th>0</th>\n",
              "      <td>The staff was very friendly, the breakfast ver...</td>\n",
              "      <td>Walker Gem</td>\n",
              "      <td>5</td>\n",
              "    </tr>\n",
              "    <tr>\n",
              "      <th>1</th>\n",
              "      <td>Excellent service - very approachable and prof...</td>\n",
              "      <td>Excellent Service</td>\n",
              "      <td>4</td>\n",
              "    </tr>\n",
              "    <tr>\n",
              "      <th>2</th>\n",
              "      <td>Really a top notch place to spend a day at the...</td>\n",
              "      <td>Good location, warm and friendly staff</td>\n",
              "      <td>5</td>\n",
              "    </tr>\n",
              "    <tr>\n",
              "      <th>3</th>\n",
              "      <td>a little noisy, there was a false fire alarm a...</td>\n",
              "      <td>nice hotel,</td>\n",
              "      <td>4</td>\n",
              "    </tr>\n",
              "    <tr>\n",
              "      <th>4</th>\n",
              "      <td>Place had too many animals and I'm allergic to...</td>\n",
              "      <td>Experience</td>\n",
              "      <td>3</td>\n",
              "    </tr>\n",
              "  </tbody>\n",
              "</table>\n",
              "</div>"
            ],
            "text/plain": [
              "                                              review  ... target\n",
              "0  The staff was very friendly, the breakfast ver...  ...      5\n",
              "1  Excellent service - very approachable and prof...  ...      4\n",
              "2  Really a top notch place to spend a day at the...  ...      5\n",
              "3  a little noisy, there was a false fire alarm a...  ...      4\n",
              "4  Place had too many animals and I'm allergic to...  ...      3\n",
              "\n",
              "[5 rows x 3 columns]"
            ]
          },
          "metadata": {
            "tags": []
          },
          "execution_count": 3
        }
      ]
    },
    {
      "cell_type": "code",
      "metadata": {
        "id": "I1cNtvVL1BPy",
        "colab_type": "code",
        "colab": {}
      },
      "source": [
        "from sklearn.linear_model import LogisticRegression\n",
        "from sklearn.svm import SVC\n",
        "from sklearn.ensemble import RandomForestClassifier\n",
        "from sklearn.tree import DecisionTreeClassifier\n",
        "from sklearn.feature_extraction.text import TfidfVectorizer\n",
        "from sklearn.model_selection import train_test_split, cross_validate, StratifiedKFold\n",
        "import numpy as np\n",
        "from collections import Counter\n",
        "from sklearn.model_selection import RandomizedSearchCV\n",
        "from scipy.stats import uniform"
      ],
      "execution_count": 0,
      "outputs": []
    },
    {
      "cell_type": "code",
      "metadata": {
        "id": "n3FXd-h81Ff9",
        "colab_type": "code",
        "colab": {}
      },
      "source": [
        "vectorizer = TfidfVectorizer()\n",
        "df_train['text'] = df_train.title + '. ' + df_train.review\n",
        "X_tv = vectorizer.fit_transform(df_train.text)\n",
        "df_test['text'] = df_test.title + '. ' + df_test.review\n",
        "X_test = vectorizer.transform(df_test.text)"
      ],
      "execution_count": 0,
      "outputs": []
    },
    {
      "cell_type": "code",
      "metadata": {
        "id": "eStHs47K1fBq",
        "colab_type": "code",
        "colab": {}
      },
      "source": [
        "y_tv = df_train.target\n",
        "y_test = df_test.target\n",
        "X_train, X_val, y_train, y_val = train_test_split(X_tv, y_tv, test_size=0.2, random_state=SEED)"
      ],
      "execution_count": 0,
      "outputs": []
    },
    {
      "cell_type": "code",
      "metadata": {
        "id": "DCLyUaSu2L7z",
        "colab_type": "code",
        "outputId": "96a0c204-4f69-4828-844f-1c7aacce55bc",
        "colab": {
          "base_uri": "https://localhost:8080/",
          "height": 34
        }
      },
      "source": [
        "X_train.shape, X_val.shape"
      ],
      "execution_count": 7,
      "outputs": [
        {
          "output_type": "execute_result",
          "data": {
            "text/plain": [
              "((38553, 43520), (9639, 43520))"
            ]
          },
          "metadata": {
            "tags": []
          },
          "execution_count": 7
        }
      ]
    },
    {
      "cell_type": "code",
      "metadata": {
        "id": "6v66Oq--1zNy",
        "colab_type": "code",
        "colab": {}
      },
      "source": [
        "scoring = ['f1_macro']"
      ],
      "execution_count": 0,
      "outputs": []
    },
    {
      "cell_type": "code",
      "metadata": {
        "id": "Pz1202HhBkTL",
        "colab_type": "code",
        "colab": {}
      },
      "source": [
        "skf = StratifiedKFold(5, shuffle=True, random_state=SEED)"
      ],
      "execution_count": 0,
      "outputs": []
    },
    {
      "cell_type": "markdown",
      "metadata": {
        "id": "a-q1-E-C3dzz",
        "colab_type": "text"
      },
      "source": [
        "### Logistic regression"
      ]
    },
    {
      "cell_type": "code",
      "metadata": {
        "id": "ov9QNdGN38Xz",
        "colab_type": "code",
        "colab": {}
      },
      "source": [
        "clf = LogisticRegression(solver='saga', random_state=SEED)\n",
        "param_dist = dict(C=uniform(loc=0, scale=4), penalty=['l2', 'l1'])\n",
        "tuned_clf = RandomizedSearchCV(clf, param_dist, random_state=SEED, scoring=scoring, refit=scoring[0], cv=skf, n_jobs=-1)\n",
        "search = tuned_clf.fit(X_tv, y_tv)\n",
        "clf = search.best_estimator_"
      ],
      "execution_count": 0,
      "outputs": []
    },
    {
      "cell_type": "code",
      "metadata": {
        "id": "BE6CeeUvL0xj",
        "colab_type": "code",
        "colab": {
          "base_uri": "https://localhost:8080/",
          "height": 51
        },
        "outputId": "a1c2e09c-5737-4d12-b0c5-c4331a43d431"
      },
      "source": [
        "pred = clf.predict(X_test)\n",
        "print(Counter(pred))\n",
        "sklearn.metrics.f1_score(y_test, pred, average='macro')"
      ],
      "execution_count": 12,
      "outputs": [
        {
          "output_type": "stream",
          "text": [
            "Counter({5: 2464, 4: 1490, 3: 697, 1: 437, 2: 267})\n"
          ],
          "name": "stdout"
        },
        {
          "output_type": "execute_result",
          "data": {
            "text/plain": [
              "0.5263214361628027"
            ]
          },
          "metadata": {
            "tags": []
          },
          "execution_count": 12
        }
      ]
    },
    {
      "cell_type": "markdown",
      "metadata": {
        "id": "5hqo2udG3gH-",
        "colab_type": "text"
      },
      "source": [
        "### RF"
      ]
    },
    {
      "cell_type": "code",
      "metadata": {
        "id": "44ZGUAkdM3WD",
        "colab_type": "code",
        "colab": {
          "base_uri": "https://localhost:8080/",
          "height": 155
        },
        "outputId": "9639cea4-7b8e-411f-d939-ab7722b42655"
      },
      "source": [
        "clf = RandomForestClassifier(n_estimators=50, random_state=SEED, oob_score=True, n_jobs=-1)\n",
        "clf.fit(X_tv, y_tv)"
      ],
      "execution_count": 13,
      "outputs": [
        {
          "output_type": "execute_result",
          "data": {
            "text/plain": [
              "RandomForestClassifier(bootstrap=True, ccp_alpha=0.0, class_weight=None,\n",
              "                       criterion='gini', max_depth=None, max_features='auto',\n",
              "                       max_leaf_nodes=None, max_samples=None,\n",
              "                       min_impurity_decrease=0.0, min_impurity_split=None,\n",
              "                       min_samples_leaf=1, min_samples_split=2,\n",
              "                       min_weight_fraction_leaf=0.0, n_estimators=50, n_jobs=-1,\n",
              "                       oob_score=True, random_state=1337, verbose=0,\n",
              "                       warm_start=False)"
            ]
          },
          "metadata": {
            "tags": []
          },
          "execution_count": 13
        }
      ]
    },
    {
      "cell_type": "code",
      "metadata": {
        "id": "lOIV3jP-YG4_",
        "colab_type": "code",
        "colab": {
          "base_uri": "https://localhost:8080/",
          "height": 51
        },
        "outputId": "2d32cf58-db12-4ada-8c15-e9dfe532f713"
      },
      "source": [
        "pred = clf.predict(X_test)\n",
        "print(Counter(pred))\n",
        "sklearn.metrics.f1_score(y_test, pred, average='macro')"
      ],
      "execution_count": 14,
      "outputs": [
        {
          "output_type": "stream",
          "text": [
            "Counter({5: 3356, 4: 1278, 3: 355, 1: 301, 2: 65})\n"
          ],
          "name": "stdout"
        },
        {
          "output_type": "execute_result",
          "data": {
            "text/plain": [
              "0.3687567631703554"
            ]
          },
          "metadata": {
            "tags": []
          },
          "execution_count": 14
        }
      ]
    },
    {
      "cell_type": "markdown",
      "metadata": {
        "id": "9wLaWn0S3f7q",
        "colab_type": "text"
      },
      "source": [
        "### SVM"
      ]
    },
    {
      "cell_type": "code",
      "metadata": {
        "id": "kMHy1HsMNrtc",
        "colab_type": "code",
        "colab": {
          "base_uri": "https://localhost:8080/",
          "height": 34
        },
        "outputId": "5e07d2d6-11e6-4784-aa43-9b59c501414d"
      },
      "source": [
        "clf = SVC(kernel='linear', random_state=SEED)\n",
        "clf.fit(X_tv, y_tv)\n",
        "pred = clf.predict(X_test)\n",
        "sklearn.metrics.f1_score(y_test, pred, average='macro')"
      ],
      "execution_count": 11,
      "outputs": [
        {
          "output_type": "execute_result",
          "data": {
            "text/plain": [
              "0.5239671328122044"
            ]
          },
          "metadata": {
            "tags": []
          },
          "execution_count": 11
        }
      ]
    },
    {
      "cell_type": "code",
      "metadata": {
        "id": "XKj4sAk0hF4v",
        "colab_type": "code",
        "colab": {}
      },
      "source": [
        ""
      ],
      "execution_count": 0,
      "outputs": []
    }
  ]
}